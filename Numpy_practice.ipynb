{
  "nbformat": 4,
  "nbformat_minor": 0,
  "metadata": {
    "colab": {
      "name": "Numpy_practice.ipynb",
      "provenance": [],
      "collapsed_sections": [],
      "authorship_tag": "ABX9TyNI9+i7ajGNI4vDd4S8+S2n",
      "include_colab_link": true
    },
    "kernelspec": {
      "name": "python3",
      "display_name": "Python 3"
    }
  },
  "cells": [
    {
      "cell_type": "markdown",
      "metadata": {
        "id": "view-in-github",
        "colab_type": "text"
      },
      "source": [
        "<a href=\"https://colab.research.google.com/github/oscar1234456/Numpy_Practice/blob/main/Numpy_practice.ipynb\" target=\"_parent\"><img src=\"https://colab.research.google.com/assets/colab-badge.svg\" alt=\"Open In Colab\"/></a>"
      ]
    },
    {
      "cell_type": "code",
      "metadata": {
        "id": "x0m62bgdOBO_"
      },
      "source": [
        "import numpy as np"
      ],
      "execution_count": 2,
      "outputs": []
    },
    {
      "cell_type": "code",
      "metadata": {
        "id": "j9GclIwTOnlj"
      },
      "source": [
        "my_arr = np.arange(1000000)"
      ],
      "execution_count": null,
      "outputs": []
    },
    {
      "cell_type": "code",
      "metadata": {
        "id": "pmbRPmkBOpJV"
      },
      "source": [
        "my_list = list(range(1000000))"
      ],
      "execution_count": null,
      "outputs": []
    },
    {
      "cell_type": "code",
      "metadata": {
        "colab": {
          "base_uri": "https://localhost:8080/"
        },
        "id": "h6SjyZS3OzuV",
        "outputId": "fc9438a9-5153-4c48-c7ec-7e15d67930ec"
      },
      "source": [
        "%time for _ in range(10): my_arr2 = my_arr * 2"
      ],
      "execution_count": null,
      "outputs": [
        {
          "output_type": "stream",
          "text": [
            "CPU times: user 19.4 ms, sys: 43 µs, total: 19.4 ms\n",
            "Wall time: 25.1 ms\n"
          ],
          "name": "stdout"
        }
      ]
    },
    {
      "cell_type": "code",
      "metadata": {
        "colab": {
          "base_uri": "https://localhost:8080/"
        },
        "id": "sIpjCPnUPClU",
        "outputId": "09f74d19-d896-44c9-9552-f93ee42b7293"
      },
      "source": [
        "%time for _ in range(10): my_list2 = [x*2 for x in my_list]"
      ],
      "execution_count": null,
      "outputs": [
        {
          "output_type": "stream",
          "text": [
            "CPU times: user 666 ms, sys: 165 ms, total: 831 ms\n",
            "Wall time: 837 ms\n"
          ],
          "name": "stdout"
        }
      ]
    },
    {
      "cell_type": "code",
      "metadata": {
        "colab": {
          "base_uri": "https://localhost:8080/"
        },
        "id": "K2V6_xtEPVJV",
        "outputId": "254cfaaa-3cb9-4b19-d854-e2a3ab82debd"
      },
      "source": [
        "print(my_arr)"
      ],
      "execution_count": null,
      "outputs": [
        {
          "output_type": "stream",
          "text": [
            "[     0      1      2 ... 999997 999998 999999]\n"
          ],
          "name": "stdout"
        }
      ]
    },
    {
      "cell_type": "code",
      "metadata": {
        "colab": {
          "base_uri": "https://localhost:8080/"
        },
        "id": "B2so7cXRPbm-",
        "outputId": "5712f9f2-99d2-413b-86c3-45c316d6d93b"
      },
      "source": [
        "data = np.random.randn(2,3)\n",
        "data"
      ],
      "execution_count": null,
      "outputs": [
        {
          "output_type": "execute_result",
          "data": {
            "text/plain": [
              "array([[ 0.51853476,  1.30596076, -0.87152964],\n",
              "       [ 1.73600556,  0.67705422, -1.27547665]])"
            ]
          },
          "metadata": {
            "tags": []
          },
          "execution_count": 25
        }
      ]
    },
    {
      "cell_type": "code",
      "metadata": {
        "colab": {
          "base_uri": "https://localhost:8080/"
        },
        "id": "QiimKXjKPvS5",
        "outputId": "37bce141-a776-49df-eaa4-a03a628e3914"
      },
      "source": [
        "data = data*2\n",
        "data"
      ],
      "execution_count": null,
      "outputs": [
        {
          "output_type": "execute_result",
          "data": {
            "text/plain": [
              "array([[ 1.03706952,  2.61192151, -1.74305928],\n",
              "       [ 3.47201111,  1.35410845, -2.55095329]])"
            ]
          },
          "metadata": {
            "tags": []
          },
          "execution_count": 26
        }
      ]
    },
    {
      "cell_type": "code",
      "metadata": {
        "colab": {
          "base_uri": "https://localhost:8080/"
        },
        "id": "gxEHLJTVP21_",
        "outputId": "d23a7bd4-733a-4bef-db94-1a1956ff754c"
      },
      "source": [
        "data+data"
      ],
      "execution_count": null,
      "outputs": [
        {
          "output_type": "execute_result",
          "data": {
            "text/plain": [
              "array([[ 2.07413904,  5.22384302, -3.48611855],\n",
              "       [ 6.94402222,  2.7082169 , -5.10190658]])"
            ]
          },
          "metadata": {
            "tags": []
          },
          "execution_count": 27
        }
      ]
    },
    {
      "cell_type": "code",
      "metadata": {
        "colab": {
          "base_uri": "https://localhost:8080/"
        },
        "id": "FpuzOGYdQF6k",
        "outputId": "d166398f-9d2d-46a3-8e1e-bb26ef2546d4"
      },
      "source": [
        "type(data)"
      ],
      "execution_count": null,
      "outputs": [
        {
          "output_type": "execute_result",
          "data": {
            "text/plain": [
              "numpy.ndarray"
            ]
          },
          "metadata": {
            "tags": []
          },
          "execution_count": 28
        }
      ]
    },
    {
      "cell_type": "code",
      "metadata": {
        "colab": {
          "base_uri": "https://localhost:8080/"
        },
        "id": "0oMjTzF2QLJs",
        "outputId": "e92c094a-91d0-42e6-9f28-24e3aec72ae9"
      },
      "source": [
        "data.shape"
      ],
      "execution_count": null,
      "outputs": [
        {
          "output_type": "execute_result",
          "data": {
            "text/plain": [
              "(2, 3)"
            ]
          },
          "metadata": {
            "tags": []
          },
          "execution_count": 32
        }
      ]
    },
    {
      "cell_type": "code",
      "metadata": {
        "colab": {
          "base_uri": "https://localhost:8080/"
        },
        "id": "IPBhUKYiQT-M",
        "outputId": "d05c7810-3af8-4ee5-e1c6-b57b290c713d"
      },
      "source": [
        "data.dtype"
      ],
      "execution_count": null,
      "outputs": [
        {
          "output_type": "execute_result",
          "data": {
            "text/plain": [
              "dtype('float64')"
            ]
          },
          "metadata": {
            "tags": []
          },
          "execution_count": 33
        }
      ]
    },
    {
      "cell_type": "code",
      "metadata": {
        "id": "nnrtAXonQdkf"
      },
      "source": [
        "data1 = [6, 7.5, 8, 0, 1]"
      ],
      "execution_count": null,
      "outputs": []
    },
    {
      "cell_type": "code",
      "metadata": {
        "colab": {
          "base_uri": "https://localhost:8080/"
        },
        "id": "P48cja3KQiDO",
        "outputId": "8ac76a7c-7333-484e-a4ed-63de6447d411"
      },
      "source": [
        "arr1 = np.array(data1)\n",
        "arr1"
      ],
      "execution_count": null,
      "outputs": [
        {
          "output_type": "execute_result",
          "data": {
            "text/plain": [
              "array([6. , 7.5, 8. , 0. , 1. ])"
            ]
          },
          "metadata": {
            "tags": []
          },
          "execution_count": 37
        }
      ]
    },
    {
      "cell_type": "code",
      "metadata": {
        "colab": {
          "base_uri": "https://localhost:8080/"
        },
        "id": "fzNvc988QmKo",
        "outputId": "24b96f98-71b4-4353-b9e0-7bd5b310f5f7"
      },
      "source": [
        "type(arr1)"
      ],
      "execution_count": null,
      "outputs": [
        {
          "output_type": "execute_result",
          "data": {
            "text/plain": [
              "numpy.ndarray"
            ]
          },
          "metadata": {
            "tags": []
          },
          "execution_count": 38
        }
      ]
    },
    {
      "cell_type": "code",
      "metadata": {
        "colab": {
          "base_uri": "https://localhost:8080/"
        },
        "id": "3EgY048rQupa",
        "outputId": "15172dc2-0619-4aa5-a80a-b7d6c0826313"
      },
      "source": [
        "data2 = [[0,1,2], [3,4,5]]\n",
        "arr2 = np.array(data2)\n",
        "arr2"
      ],
      "execution_count": null,
      "outputs": [
        {
          "output_type": "execute_result",
          "data": {
            "text/plain": [
              "array([[0, 1, 2],\n",
              "       [3, 4, 5]])"
            ]
          },
          "metadata": {
            "tags": []
          },
          "execution_count": 40
        }
      ]
    },
    {
      "cell_type": "code",
      "metadata": {
        "colab": {
          "base_uri": "https://localhost:8080/"
        },
        "id": "tByxJXIiQ761",
        "outputId": "5735d649-98f5-43f4-c962-5387391ca0b0"
      },
      "source": [
        "arr2.ndim"
      ],
      "execution_count": null,
      "outputs": [
        {
          "output_type": "execute_result",
          "data": {
            "text/plain": [
              "2"
            ]
          },
          "metadata": {
            "tags": []
          },
          "execution_count": 41
        }
      ]
    },
    {
      "cell_type": "code",
      "metadata": {
        "colab": {
          "base_uri": "https://localhost:8080/"
        },
        "id": "YRExKDehREcp",
        "outputId": "1c25c36b-61ee-496e-d2fe-1f501f9da81d"
      },
      "source": [
        "arr2.shape"
      ],
      "execution_count": null,
      "outputs": [
        {
          "output_type": "execute_result",
          "data": {
            "text/plain": [
              "(2, 3)"
            ]
          },
          "metadata": {
            "tags": []
          },
          "execution_count": 42
        }
      ]
    },
    {
      "cell_type": "code",
      "metadata": {
        "colab": {
          "base_uri": "https://localhost:8080/"
        },
        "id": "85FlzrjERLe_",
        "outputId": "1602e8b9-4a9a-4f4e-bc4d-8d4ff1595b80"
      },
      "source": [
        "arr2.dtype"
      ],
      "execution_count": null,
      "outputs": [
        {
          "output_type": "execute_result",
          "data": {
            "text/plain": [
              "dtype('int64')"
            ]
          },
          "metadata": {
            "tags": []
          },
          "execution_count": 43
        }
      ]
    },
    {
      "cell_type": "code",
      "metadata": {
        "colab": {
          "base_uri": "https://localhost:8080/"
        },
        "id": "PuWs3TH0RQD1",
        "outputId": "9dc4a701-19db-4e45-9679-2662c7274d1f"
      },
      "source": [
        "arr3 = np.zeros(10)\n",
        "arr3"
      ],
      "execution_count": null,
      "outputs": [
        {
          "output_type": "execute_result",
          "data": {
            "text/plain": [
              "array([0., 0., 0., 0., 0., 0., 0., 0., 0., 0.])"
            ]
          },
          "metadata": {
            "tags": []
          },
          "execution_count": 45
        }
      ]
    },
    {
      "cell_type": "code",
      "metadata": {
        "colab": {
          "base_uri": "https://localhost:8080/"
        },
        "id": "oqd1MuP2RW5R",
        "outputId": "7b8437e2-2c7d-4534-ed65-fae8699742fb"
      },
      "source": [
        "arr4 = np.zeros((3, 6))\n",
        "arr4"
      ],
      "execution_count": null,
      "outputs": [
        {
          "output_type": "execute_result",
          "data": {
            "text/plain": [
              "array([[0., 0., 0., 0., 0., 0.],\n",
              "       [0., 0., 0., 0., 0., 0.],\n",
              "       [0., 0., 0., 0., 0., 0.]])"
            ]
          },
          "metadata": {
            "tags": []
          },
          "execution_count": 47
        }
      ]
    },
    {
      "cell_type": "code",
      "metadata": {
        "colab": {
          "base_uri": "https://localhost:8080/"
        },
        "id": "dtyJoPM_Rrpx",
        "outputId": "15f15884-df63-4c77-f6d1-c6dc2eb1e5f6"
      },
      "source": [
        "arr5 = np.zeros((2, 3, 2))\n",
        "arr5"
      ],
      "execution_count": null,
      "outputs": [
        {
          "output_type": "execute_result",
          "data": {
            "text/plain": [
              "array([[[0., 0.],\n",
              "        [0., 0.],\n",
              "        [0., 0.]],\n",
              "\n",
              "       [[0., 0.],\n",
              "        [0., 0.],\n",
              "        [0., 0.]]])"
            ]
          },
          "metadata": {
            "tags": []
          },
          "execution_count": 49
        }
      ]
    },
    {
      "cell_type": "code",
      "metadata": {
        "colab": {
          "base_uri": "https://localhost:8080/"
        },
        "id": "Vaj6iEgQRyfX",
        "outputId": "82febb88-1ee8-4278-bb38-5ad94a50657b"
      },
      "source": [
        "arr6 = np.ones((3, 2, 5))\n",
        "arr6"
      ],
      "execution_count": null,
      "outputs": [
        {
          "output_type": "execute_result",
          "data": {
            "text/plain": [
              "array([[[1., 1., 1., 1., 1.],\n",
              "        [1., 1., 1., 1., 1.]],\n",
              "\n",
              "       [[1., 1., 1., 1., 1.],\n",
              "        [1., 1., 1., 1., 1.]],\n",
              "\n",
              "       [[1., 1., 1., 1., 1.],\n",
              "        [1., 1., 1., 1., 1.]]])"
            ]
          },
          "metadata": {
            "tags": []
          },
          "execution_count": 50
        }
      ]
    },
    {
      "cell_type": "code",
      "metadata": {
        "colab": {
          "base_uri": "https://localhost:8080/"
        },
        "id": "lK9m_RdGSKgE",
        "outputId": "85785d50-7e50-42ef-af1c-af5701ed58a0"
      },
      "source": [
        "arr7 = np.empty((5,2))\n",
        "arr7"
      ],
      "execution_count": null,
      "outputs": [
        {
          "output_type": "execute_result",
          "data": {
            "text/plain": [
              "array([[4.66175251e-310, 0.00000000e+000],\n",
              "       [0.00000000e+000, 0.00000000e+000],\n",
              "       [0.00000000e+000, 0.00000000e+000],\n",
              "       [0.00000000e+000, 0.00000000e+000],\n",
              "       [0.00000000e+000, 0.00000000e+000]])"
            ]
          },
          "metadata": {
            "tags": []
          },
          "execution_count": 52
        }
      ]
    },
    {
      "cell_type": "code",
      "metadata": {
        "colab": {
          "base_uri": "https://localhost:8080/"
        },
        "id": "bv4ZrtEgS35t",
        "outputId": "22f37e9a-f99f-497c-f10b-b798c99e5f8b"
      },
      "source": [
        "arr8 = np.array([1, 2, 3, 4, 5 ])\n",
        "arr8.dtype"
      ],
      "execution_count": null,
      "outputs": [
        {
          "output_type": "execute_result",
          "data": {
            "text/plain": [
              "dtype('int64')"
            ]
          },
          "metadata": {
            "tags": []
          },
          "execution_count": 54
        }
      ]
    },
    {
      "cell_type": "code",
      "metadata": {
        "colab": {
          "base_uri": "https://localhost:8080/"
        },
        "id": "vEzyw-ToTFfB",
        "outputId": "ddfc0a04-26b5-45d1-bbdc-47f4796d4609"
      },
      "source": [
        "float_arr8 = arr8.astype(np.float64)\n",
        "float_arr8.dtype\n",
        "float_arr8"
      ],
      "execution_count": null,
      "outputs": [
        {
          "output_type": "execute_result",
          "data": {
            "text/plain": [
              "array([1., 2., 3., 4., 5.])"
            ]
          },
          "metadata": {
            "tags": []
          },
          "execution_count": 56
        }
      ]
    },
    {
      "cell_type": "code",
      "metadata": {
        "colab": {
          "base_uri": "https://localhost:8080/"
        },
        "id": "bKvCu33RTeYo",
        "outputId": "be58239b-10ef-4764-ca11-c898af6e4b5e"
      },
      "source": [
        "numeric_strings = np.array(['1.25', '-9.6', '42'])\n",
        "numeric_strings.dtype"
      ],
      "execution_count": null,
      "outputs": [
        {
          "output_type": "execute_result",
          "data": {
            "text/plain": [
              "dtype('<U4')"
            ]
          },
          "metadata": {
            "tags": []
          },
          "execution_count": 57
        }
      ]
    },
    {
      "cell_type": "code",
      "metadata": {
        "colab": {
          "base_uri": "https://localhost:8080/"
        },
        "id": "e_hAyjWnTqFh",
        "outputId": "1f5ce663-69e2-4a4c-98d4-70626427e353"
      },
      "source": [
        "numeric_strings.astype(np.float64)"
      ],
      "execution_count": null,
      "outputs": [
        {
          "output_type": "execute_result",
          "data": {
            "text/plain": [
              "array([ 1.25, -9.6 , 42.  ])"
            ]
          },
          "metadata": {
            "tags": []
          },
          "execution_count": 58
        }
      ]
    },
    {
      "cell_type": "code",
      "metadata": {
        "colab": {
          "base_uri": "https://localhost:8080/"
        },
        "id": "OJgBkGDPUKgv",
        "outputId": "f1b43837-c66c-4099-820c-c8c4102f6f64"
      },
      "source": [
        "int_array = np.arange(10)\n",
        "# calibers = np.array([.22, .270, .357, .380, .44, .50])\n",
        "calibers = np.array([\"1\",\"2\",\"3\"])\n",
        "int_array.astype(calibers.dtype)"
      ],
      "execution_count": null,
      "outputs": [
        {
          "output_type": "execute_result",
          "data": {
            "text/plain": [
              "array(['0', '1', '2', '3', '4', '5', '6', '7', '8', '9'], dtype='<U1')"
            ]
          },
          "metadata": {
            "tags": []
          },
          "execution_count": 60
        }
      ]
    },
    {
      "cell_type": "code",
      "metadata": {
        "colab": {
          "base_uri": "https://localhost:8080/"
        },
        "id": "nwjY0sSLUj2F",
        "outputId": "fc8bff0c-fc76-4afb-de65-f685c8fcc814"
      },
      "source": [
        "arr = np.array([[1,2,3],[4,5,6]])\n",
        "arr"
      ],
      "execution_count": null,
      "outputs": [
        {
          "output_type": "execute_result",
          "data": {
            "text/plain": [
              "array([[1, 2, 3],\n",
              "       [4, 5, 6]])"
            ]
          },
          "metadata": {
            "tags": []
          },
          "execution_count": 62
        }
      ]
    },
    {
      "cell_type": "code",
      "metadata": {
        "colab": {
          "base_uri": "https://localhost:8080/"
        },
        "id": "HMnOuZbOVQE3",
        "outputId": "1357f72e-5073-448c-c6bc-71f744ed508e"
      },
      "source": [
        "arr * arr"
      ],
      "execution_count": null,
      "outputs": [
        {
          "output_type": "execute_result",
          "data": {
            "text/plain": [
              "array([[ 1,  4,  9],\n",
              "       [16, 25, 36]])"
            ]
          },
          "metadata": {
            "tags": []
          },
          "execution_count": 63
        }
      ]
    },
    {
      "cell_type": "code",
      "metadata": {
        "colab": {
          "base_uri": "https://localhost:8080/"
        },
        "id": "FiF9fJzvVT6f",
        "outputId": "4d610486-b398-4f2a-ab83-856f4832df7e"
      },
      "source": [
        "arr + arr"
      ],
      "execution_count": null,
      "outputs": [
        {
          "output_type": "execute_result",
          "data": {
            "text/plain": [
              "array([[ 2,  4,  6],\n",
              "       [ 8, 10, 12]])"
            ]
          },
          "metadata": {
            "tags": []
          },
          "execution_count": 64
        }
      ]
    },
    {
      "cell_type": "code",
      "metadata": {
        "colab": {
          "base_uri": "https://localhost:8080/"
        },
        "id": "gR_dP2G_VYGp",
        "outputId": "a14a9852-b9bc-4481-a1fb-467f36d4f322"
      },
      "source": [
        "arr - arr"
      ],
      "execution_count": null,
      "outputs": [
        {
          "output_type": "execute_result",
          "data": {
            "text/plain": [
              "array([[0, 0, 0],\n",
              "       [0, 0, 0]])"
            ]
          },
          "metadata": {
            "tags": []
          },
          "execution_count": 65
        }
      ]
    },
    {
      "cell_type": "code",
      "metadata": {
        "colab": {
          "base_uri": "https://localhost:8080/"
        },
        "id": "os9ogOzYVbiw",
        "outputId": "60c2b2d0-e7d3-410c-8fc3-ab97860d4808"
      },
      "source": [
        "1/arr"
      ],
      "execution_count": null,
      "outputs": [
        {
          "output_type": "execute_result",
          "data": {
            "text/plain": [
              "array([[1.        , 0.5       , 0.33333333],\n",
              "       [0.25      , 0.2       , 0.16666667]])"
            ]
          },
          "metadata": {
            "tags": []
          },
          "execution_count": 66
        }
      ]
    },
    {
      "cell_type": "code",
      "metadata": {
        "colab": {
          "base_uri": "https://localhost:8080/"
        },
        "id": "RpeMc0nBVl3X",
        "outputId": "f1fce906-dbe8-4310-ca0a-4a070b64db8f"
      },
      "source": [
        "arr ** 0.5"
      ],
      "execution_count": null,
      "outputs": [
        {
          "output_type": "execute_result",
          "data": {
            "text/plain": [
              "array([[1.        , 1.41421356, 1.73205081],\n",
              "       [2.        , 2.23606798, 2.44948974]])"
            ]
          },
          "metadata": {
            "tags": []
          },
          "execution_count": 67
        }
      ]
    },
    {
      "cell_type": "code",
      "metadata": {
        "colab": {
          "base_uri": "https://localhost:8080/"
        },
        "id": "myWsi_nKVqFy",
        "outputId": "74ba4e21-e678-4f89-a0f3-ec327fbcf641"
      },
      "source": [
        "arr2 = np.array([[0,4,1],[7,2,12]])\n",
        "arr2"
      ],
      "execution_count": null,
      "outputs": [
        {
          "output_type": "execute_result",
          "data": {
            "text/plain": [
              "array([[ 0,  4,  1],\n",
              "       [ 7,  2, 12]])"
            ]
          },
          "metadata": {
            "tags": []
          },
          "execution_count": 68
        }
      ]
    },
    {
      "cell_type": "code",
      "metadata": {
        "colab": {
          "base_uri": "https://localhost:8080/"
        },
        "id": "TAP4dlXTWGhT",
        "outputId": "3ed247cf-cad1-4a29-9a90-359d9d0bca18"
      },
      "source": [
        "arr2 > arr"
      ],
      "execution_count": null,
      "outputs": [
        {
          "output_type": "execute_result",
          "data": {
            "text/plain": [
              "array([[False,  True, False],\n",
              "       [ True, False,  True]])"
            ]
          },
          "metadata": {
            "tags": []
          },
          "execution_count": 71
        }
      ]
    },
    {
      "cell_type": "code",
      "metadata": {
        "colab": {
          "base_uri": "https://localhost:8080/"
        },
        "id": "ojlwaz4fWT__",
        "outputId": "1ee6bb2d-d6d6-4ddb-c939-ab4114b2f40c"
      },
      "source": [
        "arr = np.array([1,2,3])\n",
        "arr1 = np.array([2,3,4])\n",
        "arr*arr1"
      ],
      "execution_count": null,
      "outputs": [
        {
          "output_type": "execute_result",
          "data": {
            "text/plain": [
              "array([ 2,  6, 12])"
            ]
          },
          "metadata": {
            "tags": []
          },
          "execution_count": 72
        }
      ]
    },
    {
      "cell_type": "code",
      "metadata": {
        "colab": {
          "base_uri": "https://localhost:8080/"
        },
        "id": "MdVMlBnpW_Be",
        "outputId": "90145f88-2c99-4571-b639-051027d711d6"
      },
      "source": [
        "arr = np.arange(10)\n",
        "arr"
      ],
      "execution_count": null,
      "outputs": [
        {
          "output_type": "execute_result",
          "data": {
            "text/plain": [
              "array([0, 1, 2, 3, 4, 5, 6, 7, 8, 9])"
            ]
          },
          "metadata": {
            "tags": []
          },
          "execution_count": 74
        }
      ]
    },
    {
      "cell_type": "code",
      "metadata": {
        "colab": {
          "base_uri": "https://localhost:8080/"
        },
        "id": "lcq71MTRXFlE",
        "outputId": "2694ed2a-9920-4cd5-fa4d-4cf77afae3f0"
      },
      "source": [
        "arr[5]"
      ],
      "execution_count": null,
      "outputs": [
        {
          "output_type": "execute_result",
          "data": {
            "text/plain": [
              "5"
            ]
          },
          "metadata": {
            "tags": []
          },
          "execution_count": 75
        }
      ]
    },
    {
      "cell_type": "code",
      "metadata": {
        "colab": {
          "base_uri": "https://localhost:8080/"
        },
        "id": "WMn6_dR4XIxZ",
        "outputId": "ef051855-2b99-4a79-ac81-d3e7cd9494e4"
      },
      "source": [
        "arr[5:9]"
      ],
      "execution_count": null,
      "outputs": [
        {
          "output_type": "execute_result",
          "data": {
            "text/plain": [
              "array([5, 6, 7, 8])"
            ]
          },
          "metadata": {
            "tags": []
          },
          "execution_count": 78
        }
      ]
    },
    {
      "cell_type": "code",
      "metadata": {
        "colab": {
          "base_uri": "https://localhost:8080/"
        },
        "id": "2sQFE0-QXQq8",
        "outputId": "f2baf33b-e546-4f41-a766-15272c53f257"
      },
      "source": [
        "arr[5:9] = 12\n",
        "arr"
      ],
      "execution_count": null,
      "outputs": [
        {
          "output_type": "execute_result",
          "data": {
            "text/plain": [
              "array([ 0,  1,  2,  3,  4, 12, 12, 12, 12,  9])"
            ]
          },
          "metadata": {
            "tags": []
          },
          "execution_count": 79
        }
      ]
    },
    {
      "cell_type": "code",
      "metadata": {
        "colab": {
          "base_uri": "https://localhost:8080/"
        },
        "id": "Cq5cU8F_XWqH",
        "outputId": "b69752e2-9fd9-4457-ded3-bf26a6c690f5"
      },
      "source": [
        "arr2d = np.array([[1,2,3],[3,4,5]])\n",
        "arr2d"
      ],
      "execution_count": null,
      "outputs": [
        {
          "output_type": "execute_result",
          "data": {
            "text/plain": [
              "array([[1, 2, 3],\n",
              "       [3, 4, 5]])"
            ]
          },
          "metadata": {
            "tags": []
          },
          "execution_count": 81
        }
      ]
    },
    {
      "cell_type": "code",
      "metadata": {
        "colab": {
          "base_uri": "https://localhost:8080/"
        },
        "id": "CPm1T93bX2wn",
        "outputId": "e452fb51-d950-4323-e4d2-244a748712c7"
      },
      "source": [
        "arr2d[1]"
      ],
      "execution_count": null,
      "outputs": [
        {
          "output_type": "execute_result",
          "data": {
            "text/plain": [
              "array([3, 4, 5])"
            ]
          },
          "metadata": {
            "tags": []
          },
          "execution_count": 83
        }
      ]
    },
    {
      "cell_type": "code",
      "metadata": {
        "colab": {
          "base_uri": "https://localhost:8080/"
        },
        "id": "QE6uZGtoYBKi",
        "outputId": "b2df1639-883b-4347-f3dc-d021ef0b328c"
      },
      "source": [
        "arr2d[0][2]"
      ],
      "execution_count": null,
      "outputs": [
        {
          "output_type": "execute_result",
          "data": {
            "text/plain": [
              "3"
            ]
          },
          "metadata": {
            "tags": []
          },
          "execution_count": 84
        }
      ]
    },
    {
      "cell_type": "code",
      "metadata": {
        "colab": {
          "base_uri": "https://localhost:8080/"
        },
        "id": "50xnFMGXYDuS",
        "outputId": "c395574b-542f-46e0-9ab5-3dbc9d6e7b00"
      },
      "source": [
        "arr2d[0,1]"
      ],
      "execution_count": null,
      "outputs": [
        {
          "output_type": "execute_result",
          "data": {
            "text/plain": [
              "2"
            ]
          },
          "metadata": {
            "tags": []
          },
          "execution_count": 86
        }
      ]
    },
    {
      "cell_type": "code",
      "metadata": {
        "colab": {
          "base_uri": "https://localhost:8080/"
        },
        "id": "sAryu39uYOen",
        "outputId": "7242a4b8-0e41-459d-947e-69747af408eb"
      },
      "source": [
        "arr = np.array([[1,2,3],[4,5,6],[7,8,9]])\n",
        "arr"
      ],
      "execution_count": null,
      "outputs": [
        {
          "output_type": "execute_result",
          "data": {
            "text/plain": [
              "array([[1, 2, 3],\n",
              "       [4, 5, 6],\n",
              "       [7, 8, 9]])"
            ]
          },
          "metadata": {
            "tags": []
          },
          "execution_count": 87
        }
      ]
    },
    {
      "cell_type": "code",
      "metadata": {
        "colab": {
          "base_uri": "https://localhost:8080/"
        },
        "id": "YgQqGlNdaNvJ",
        "outputId": "9c93dfc9-5389-4391-942c-ca17ea2571bc"
      },
      "source": [
        "arr[:2,1:]"
      ],
      "execution_count": null,
      "outputs": [
        {
          "output_type": "execute_result",
          "data": {
            "text/plain": [
              "array([[2, 3],\n",
              "       [5, 6]])"
            ]
          },
          "metadata": {
            "tags": []
          },
          "execution_count": 88
        }
      ]
    },
    {
      "cell_type": "code",
      "metadata": {
        "colab": {
          "base_uri": "https://localhost:8080/"
        },
        "id": "xJiR2l-Oa4fQ",
        "outputId": "ba0297fd-7c85-4b09-9e32-23ab561c99af"
      },
      "source": [
        "arr[2,:]"
      ],
      "execution_count": null,
      "outputs": [
        {
          "output_type": "execute_result",
          "data": {
            "text/plain": [
              "array([7, 8, 9])"
            ]
          },
          "metadata": {
            "tags": []
          },
          "execution_count": 89
        }
      ]
    },
    {
      "cell_type": "code",
      "metadata": {
        "colab": {
          "base_uri": "https://localhost:8080/"
        },
        "id": "Kfld98NKa-Rb",
        "outputId": "c54fd7c9-54fd-4872-b405-899600ca90ed"
      },
      "source": [
        "arr[2:, :]"
      ],
      "execution_count": null,
      "outputs": [
        {
          "output_type": "execute_result",
          "data": {
            "text/plain": [
              "array([[7, 8, 9]])"
            ]
          },
          "metadata": {
            "tags": []
          },
          "execution_count": 90
        }
      ]
    },
    {
      "cell_type": "code",
      "metadata": {
        "colab": {
          "base_uri": "https://localhost:8080/"
        },
        "id": "OGjEyZA9bLES",
        "outputId": "c67806f1-526e-42b3-ab4a-c736b71fa366"
      },
      "source": [
        "arr[:,:2]"
      ],
      "execution_count": null,
      "outputs": [
        {
          "output_type": "execute_result",
          "data": {
            "text/plain": [
              "array([[1, 2],\n",
              "       [4, 5],\n",
              "       [7, 8]])"
            ]
          },
          "metadata": {
            "tags": []
          },
          "execution_count": 91
        }
      ]
    },
    {
      "cell_type": "code",
      "metadata": {
        "colab": {
          "base_uri": "https://localhost:8080/"
        },
        "id": "vYC64X1UbP1T",
        "outputId": "efb57671-5485-4303-a28f-a240f2a65d23"
      },
      "source": [
        "arr[1,:2]"
      ],
      "execution_count": null,
      "outputs": [
        {
          "output_type": "execute_result",
          "data": {
            "text/plain": [
              "array([4, 5])"
            ]
          },
          "metadata": {
            "tags": []
          },
          "execution_count": 92
        }
      ]
    },
    {
      "cell_type": "code",
      "metadata": {
        "colab": {
          "base_uri": "https://localhost:8080/"
        },
        "id": "QOAHWdljbWfz",
        "outputId": "b7d17654-da1e-427f-d80e-3cfea6c6ae8b"
      },
      "source": [
        "arr[1:2, :2]"
      ],
      "execution_count": null,
      "outputs": [
        {
          "output_type": "execute_result",
          "data": {
            "text/plain": [
              "array([[4, 5]])"
            ]
          },
          "metadata": {
            "tags": []
          },
          "execution_count": 94
        }
      ]
    },
    {
      "cell_type": "code",
      "metadata": {
        "id": "KYnIcnKYb4Z4"
      },
      "source": [
        "names = np.array(['Bob', 'Joe','Will', 'Bob', 'Will', 'Joe', 'Joe'])\n",
        "data = np.random.randn(7,4)"
      ],
      "execution_count": null,
      "outputs": []
    },
    {
      "cell_type": "code",
      "metadata": {
        "colab": {
          "base_uri": "https://localhost:8080/"
        },
        "id": "_NwpUW6pcHxQ",
        "outputId": "2cfeb6e1-46fb-4fa5-906b-779c2be2ce69"
      },
      "source": [
        "names"
      ],
      "execution_count": null,
      "outputs": [
        {
          "output_type": "execute_result",
          "data": {
            "text/plain": [
              "array(['Bob', 'Joe', 'Will', 'Bob', 'Will', 'Joe', 'Joe'], dtype='<U4')"
            ]
          },
          "metadata": {
            "tags": []
          },
          "execution_count": 96
        }
      ]
    },
    {
      "cell_type": "code",
      "metadata": {
        "colab": {
          "base_uri": "https://localhost:8080/"
        },
        "id": "gM4C8haQcJzP",
        "outputId": "2c444510-f25d-4321-c1ab-8332a92e6d7f"
      },
      "source": [
        "data"
      ],
      "execution_count": null,
      "outputs": [
        {
          "output_type": "execute_result",
          "data": {
            "text/plain": [
              "array([[ 0.60998167, -0.4750541 ,  0.83377753, -1.93518874],\n",
              "       [-0.16049902, -0.15187762, -0.37197516,  0.14111804],\n",
              "       [-0.68370928, -0.20785975, -0.22797402,  1.99096022],\n",
              "       [-0.64430885, -0.54758149,  1.04238802,  0.80648829],\n",
              "       [-0.95383126, -0.13283719, -0.06306898,  0.52169867],\n",
              "       [-0.06665623,  0.08206044,  0.30804482, -2.36619322],\n",
              "       [-0.24388604, -0.7799216 ,  0.66466533,  0.39593256]])"
            ]
          },
          "metadata": {
            "tags": []
          },
          "execution_count": 97
        }
      ]
    },
    {
      "cell_type": "code",
      "metadata": {
        "colab": {
          "base_uri": "https://localhost:8080/"
        },
        "id": "urWk11CFcLzS",
        "outputId": "66482e17-7cf8-4e70-e53f-700fe153df12"
      },
      "source": [
        "names == 'Bob'"
      ],
      "execution_count": null,
      "outputs": [
        {
          "output_type": "execute_result",
          "data": {
            "text/plain": [
              "array([ True, False, False,  True, False, False, False])"
            ]
          },
          "metadata": {
            "tags": []
          },
          "execution_count": 99
        }
      ]
    },
    {
      "cell_type": "code",
      "metadata": {
        "colab": {
          "base_uri": "https://localhost:8080/"
        },
        "id": "sD7VVE_jcUcN",
        "outputId": "dc5206f3-d26a-4fb6-8cb2-b9487d8352ba"
      },
      "source": [
        "data[names=='Bob']"
      ],
      "execution_count": null,
      "outputs": [
        {
          "output_type": "execute_result",
          "data": {
            "text/plain": [
              "array([[ 0.60998167, -0.4750541 ,  0.83377753, -1.93518874],\n",
              "       [-0.64430885, -0.54758149,  1.04238802,  0.80648829]])"
            ]
          },
          "metadata": {
            "tags": []
          },
          "execution_count": 100
        }
      ]
    },
    {
      "cell_type": "code",
      "metadata": {
        "colab": {
          "base_uri": "https://localhost:8080/"
        },
        "id": "70_IflYxckml",
        "outputId": "55c42020-dda0-429e-d164-dd69f2c351c7"
      },
      "source": [
        "data[names=='Bob', 2:]"
      ],
      "execution_count": null,
      "outputs": [
        {
          "output_type": "execute_result",
          "data": {
            "text/plain": [
              "array([[ 0.83377753, -1.93518874],\n",
              "       [ 1.04238802,  0.80648829]])"
            ]
          },
          "metadata": {
            "tags": []
          },
          "execution_count": 101
        }
      ]
    },
    {
      "cell_type": "code",
      "metadata": {
        "colab": {
          "base_uri": "https://localhost:8080/"
        },
        "id": "7veCa-scc2pF",
        "outputId": "394c640b-5ca0-4e3b-93ba-9bc78cf5eedc"
      },
      "source": [
        "mask = (names=='Bob')|(names==\"Will\")\n",
        "mask"
      ],
      "execution_count": null,
      "outputs": [
        {
          "output_type": "execute_result",
          "data": {
            "text/plain": [
              "array([ True, False,  True,  True,  True, False, False])"
            ]
          },
          "metadata": {
            "tags": []
          },
          "execution_count": 105
        }
      ]
    },
    {
      "cell_type": "code",
      "metadata": {
        "colab": {
          "base_uri": "https://localhost:8080/"
        },
        "id": "j1cKt1Nbdcbs",
        "outputId": "8b789a70-de9c-49ee-b83f-2289692c17b6"
      },
      "source": [
        "~mask"
      ],
      "execution_count": null,
      "outputs": [
        {
          "output_type": "execute_result",
          "data": {
            "text/plain": [
              "array([False,  True, False, False, False,  True,  True])"
            ]
          },
          "metadata": {
            "tags": []
          },
          "execution_count": 106
        }
      ]
    },
    {
      "cell_type": "code",
      "metadata": {
        "colab": {
          "base_uri": "https://localhost:8080/"
        },
        "id": "9L5t0gqAfgAs",
        "outputId": "cb643f50-687d-4add-a85f-221e50feeb0a"
      },
      "source": [
        "arr = np.empty((8,4))\n",
        "arr"
      ],
      "execution_count": null,
      "outputs": [
        {
          "output_type": "execute_result",
          "data": {
            "text/plain": [
              "array([[0., 0., 0., 0.],\n",
              "       [0., 0., 0., 0.],\n",
              "       [0., 0., 0., 0.],\n",
              "       [0., 0., 0., 0.],\n",
              "       [0., 0., 0., 0.],\n",
              "       [0., 0., 0., 0.],\n",
              "       [0., 0., 0., 0.],\n",
              "       [0., 0., 0., 0.]])"
            ]
          },
          "metadata": {
            "tags": []
          },
          "execution_count": 112
        }
      ]
    },
    {
      "cell_type": "code",
      "metadata": {
        "colab": {
          "base_uri": "https://localhost:8080/"
        },
        "id": "BRlpPKWtfoax",
        "outputId": "9426211b-18af-4339-a97f-440dc453e888"
      },
      "source": [
        "for i in range(8):\n",
        "  arr[i] = i\n",
        "arr"
      ],
      "execution_count": null,
      "outputs": [
        {
          "output_type": "execute_result",
          "data": {
            "text/plain": [
              "array([[0., 0., 0., 0.],\n",
              "       [1., 1., 1., 1.],\n",
              "       [2., 2., 2., 2.],\n",
              "       [3., 3., 3., 3.],\n",
              "       [4., 4., 4., 4.],\n",
              "       [5., 5., 5., 5.],\n",
              "       [6., 6., 6., 6.],\n",
              "       [7., 7., 7., 7.]])"
            ]
          },
          "metadata": {
            "tags": []
          },
          "execution_count": 119
        }
      ]
    },
    {
      "cell_type": "code",
      "metadata": {
        "colab": {
          "base_uri": "https://localhost:8080/"
        },
        "id": "ajSwxsIlgZ3d",
        "outputId": "7ed5944c-acaf-42c3-c6d7-170f0af023d1"
      },
      "source": [
        "arr[[4,2,0,5]]"
      ],
      "execution_count": null,
      "outputs": [
        {
          "output_type": "execute_result",
          "data": {
            "text/plain": [
              "array([[4., 4., 4., 4.],\n",
              "       [2., 2., 2., 2.],\n",
              "       [0., 0., 0., 0.],\n",
              "       [5., 5., 5., 5.]])"
            ]
          },
          "metadata": {
            "tags": []
          },
          "execution_count": 120
        }
      ]
    },
    {
      "cell_type": "code",
      "metadata": {
        "colab": {
          "base_uri": "https://localhost:8080/"
        },
        "id": "ESXneSQqgezH",
        "outputId": "7f55c868-b0c5-404d-c192-3c40133fcbdb"
      },
      "source": [
        "arr[[-1,-2,-3,-4]]"
      ],
      "execution_count": null,
      "outputs": [
        {
          "output_type": "execute_result",
          "data": {
            "text/plain": [
              "array([[7., 7., 7., 7.],\n",
              "       [6., 6., 6., 6.],\n",
              "       [5., 5., 5., 5.],\n",
              "       [4., 4., 4., 4.]])"
            ]
          },
          "metadata": {
            "tags": []
          },
          "execution_count": 121
        }
      ]
    },
    {
      "cell_type": "code",
      "metadata": {
        "colab": {
          "base_uri": "https://localhost:8080/"
        },
        "id": "aiANF5X_g6VL",
        "outputId": "68d4637a-419c-4919-cb2c-74c223bfd8bb"
      },
      "source": [
        "arr = np.arange(32).reshape((8,4))\n",
        "arr"
      ],
      "execution_count": null,
      "outputs": [
        {
          "output_type": "execute_result",
          "data": {
            "text/plain": [
              "array([[ 0,  1,  2,  3],\n",
              "       [ 4,  5,  6,  7],\n",
              "       [ 8,  9, 10, 11],\n",
              "       [12, 13, 14, 15],\n",
              "       [16, 17, 18, 19],\n",
              "       [20, 21, 22, 23],\n",
              "       [24, 25, 26, 27],\n",
              "       [28, 29, 30, 31]])"
            ]
          },
          "metadata": {
            "tags": []
          },
          "execution_count": 122
        }
      ]
    },
    {
      "cell_type": "code",
      "metadata": {
        "colab": {
          "base_uri": "https://localhost:8080/"
        },
        "id": "x7iH9nHRhAUt",
        "outputId": "e74a1a4d-4208-4332-e9be-eeb74bd9cd91"
      },
      "source": [
        "arr[[1,-2],[2,3]]"
      ],
      "execution_count": null,
      "outputs": [
        {
          "output_type": "execute_result",
          "data": {
            "text/plain": [
              "array([ 6, 27])"
            ]
          },
          "metadata": {
            "tags": []
          },
          "execution_count": 123
        }
      ]
    },
    {
      "cell_type": "code",
      "metadata": {
        "colab": {
          "base_uri": "https://localhost:8080/"
        },
        "id": "BOS7qB8ch32m",
        "outputId": "104b026e-6a8d-4d19-c675-09668f83e329"
      },
      "source": [
        "arr = np.arange(15).reshape((3,5))\n",
        "arr"
      ],
      "execution_count": null,
      "outputs": [
        {
          "output_type": "execute_result",
          "data": {
            "text/plain": [
              "array([[ 0,  1,  2,  3,  4],\n",
              "       [ 5,  6,  7,  8,  9],\n",
              "       [10, 11, 12, 13, 14]])"
            ]
          },
          "metadata": {
            "tags": []
          },
          "execution_count": 125
        }
      ]
    },
    {
      "cell_type": "code",
      "metadata": {
        "colab": {
          "base_uri": "https://localhost:8080/"
        },
        "id": "7wH5XKD0h_ZO",
        "outputId": "3e32c84e-1391-4ab4-8e4a-e309f6261ef5"
      },
      "source": [
        "arr.T"
      ],
      "execution_count": null,
      "outputs": [
        {
          "output_type": "execute_result",
          "data": {
            "text/plain": [
              "array([[ 0,  5, 10],\n",
              "       [ 1,  6, 11],\n",
              "       [ 2,  7, 12],\n",
              "       [ 3,  8, 13],\n",
              "       [ 4,  9, 14]])"
            ]
          },
          "metadata": {
            "tags": []
          },
          "execution_count": 126
        }
      ]
    },
    {
      "cell_type": "code",
      "metadata": {
        "colab": {
          "base_uri": "https://localhost:8080/"
        },
        "id": "jV4F5YWTiSyU",
        "outputId": "c9215943-2fb4-4780-c297-e62e39911d34"
      },
      "source": [
        "arr = np.random.randn(6,3)\n",
        "arr"
      ],
      "execution_count": null,
      "outputs": [
        {
          "output_type": "execute_result",
          "data": {
            "text/plain": [
              "array([[ 0.71847775,  0.26285484, -1.26553537],\n",
              "       [ 1.56486367, -0.36669354, -0.57239746],\n",
              "       [-0.32396078,  0.42142172, -0.23613956],\n",
              "       [-0.96922448,  0.33607358,  1.36743707],\n",
              "       [-0.34535039, -0.77819041,  0.8160415 ],\n",
              "       [ 0.40062679,  0.96034596,  0.35131363]])"
            ]
          },
          "metadata": {
            "tags": []
          },
          "execution_count": 128
        }
      ]
    },
    {
      "cell_type": "code",
      "metadata": {
        "colab": {
          "base_uri": "https://localhost:8080/"
        },
        "id": "tcKcUX0YiflX",
        "outputId": "50228c16-6077-43ba-86ce-995ca7636163"
      },
      "source": [
        "np.dot(arr.T, arr)"
      ],
      "execution_count": null,
      "outputs": [
        {
          "output_type": "execute_result",
          "data": {
            "text/plain": [
              "array([[ 4.289124  , -0.19373621, -3.19491112],\n",
              "       [-0.19373621,  2.02194322, -0.06036556],\n",
              "       [-3.19491112, -0.06036556,  4.64420965]])"
            ]
          },
          "metadata": {
            "tags": []
          },
          "execution_count": 129
        }
      ]
    },
    {
      "cell_type": "code",
      "metadata": {
        "colab": {
          "base_uri": "https://localhost:8080/"
        },
        "id": "HIBWP4Jnirrc",
        "outputId": "15a3df38-d878-4279-95cd-3d890c364a4e"
      },
      "source": [
        "arr = np.array([1,2])\n",
        "arr"
      ],
      "execution_count": null,
      "outputs": [
        {
          "output_type": "execute_result",
          "data": {
            "text/plain": [
              "array([1, 2])"
            ]
          },
          "metadata": {
            "tags": []
          },
          "execution_count": 133
        }
      ]
    },
    {
      "cell_type": "code",
      "metadata": {
        "colab": {
          "base_uri": "https://localhost:8080/"
        },
        "id": "4HIlKsdTi1NF",
        "outputId": "7b7f0127-1eb7-45ec-ea7a-9fa302a3e276"
      },
      "source": [
        "np.dot(arr.T, arr) "
      ],
      "execution_count": null,
      "outputs": [
        {
          "output_type": "execute_result",
          "data": {
            "text/plain": [
              "5"
            ]
          },
          "metadata": {
            "tags": []
          },
          "execution_count": 134
        }
      ]
    },
    {
      "cell_type": "code",
      "metadata": {
        "colab": {
          "base_uri": "https://localhost:8080/"
        },
        "id": "AOneJZyaoGCK",
        "outputId": "9d67ed80-041a-4a10-fc59-b0c3c04656c7"
      },
      "source": [
        "arr = np.arange(10)\r\n",
        "arr"
      ],
      "execution_count": 20,
      "outputs": [
        {
          "output_type": "execute_result",
          "data": {
            "text/plain": [
              "array([0, 1, 2, 3, 4, 5, 6, 7, 8, 9])"
            ]
          },
          "metadata": {
            "tags": []
          },
          "execution_count": 20
        }
      ]
    },
    {
      "cell_type": "code",
      "metadata": {
        "colab": {
          "base_uri": "https://localhost:8080/"
        },
        "id": "Nj_uuGvqqD4g",
        "outputId": "5d986707-2599-41b5-f3e6-c702ea45ebb1"
      },
      "source": [
        "np.sqrt(arr)"
      ],
      "execution_count": 17,
      "outputs": [
        {
          "output_type": "execute_result",
          "data": {
            "text/plain": [
              "array([0.        , 1.        , 1.41421356, 1.73205081, 2.        ,\n",
              "       2.23606798, 2.44948974, 2.64575131, 2.82842712, 3.        ])"
            ]
          },
          "metadata": {
            "tags": []
          },
          "execution_count": 17
        }
      ]
    },
    {
      "cell_type": "code",
      "metadata": {
        "colab": {
          "base_uri": "https://localhost:8080/"
        },
        "id": "olI5UwooqgGo",
        "outputId": "20fd5899-c60f-4ea1-9ed5-fbee62cd0989"
      },
      "source": [
        "%time np.sqrt(arr)\r\n"
      ],
      "execution_count": 21,
      "outputs": [
        {
          "output_type": "stream",
          "text": [
            "CPU times: user 35 µs, sys: 0 ns, total: 35 µs\n",
            "Wall time: 39.1 µs\n"
          ],
          "name": "stdout"
        },
        {
          "output_type": "execute_result",
          "data": {
            "text/plain": [
              "array([0.        , 1.        , 1.41421356, 1.73205081, 2.        ,\n",
              "       2.23606798, 2.44948974, 2.64575131, 2.82842712, 3.        ])"
            ]
          },
          "metadata": {
            "tags": []
          },
          "execution_count": 21
        }
      ]
    },
    {
      "cell_type": "code",
      "metadata": {
        "id": "Hu3FiMmbq6J-"
      },
      "source": [
        ""
      ],
      "execution_count": null,
      "outputs": []
    },
    {
      "cell_type": "code",
      "metadata": {
        "colab": {
          "base_uri": "https://localhost:8080/"
        },
        "id": "fk_JQGkCqrSe",
        "outputId": "f678ad33-0258-4fc7-e590-9bdb5eb1d7f9"
      },
      "source": [
        "%time arr**0.5\r\n"
      ],
      "execution_count": 22,
      "outputs": [
        {
          "output_type": "stream",
          "text": [
            "CPU times: user 39 µs, sys: 6 µs, total: 45 µs\n",
            "Wall time: 48.9 µs\n"
          ],
          "name": "stdout"
        },
        {
          "output_type": "execute_result",
          "data": {
            "text/plain": [
              "array([0.        , 1.        , 1.41421356, 1.73205081, 2.        ,\n",
              "       2.23606798, 2.44948974, 2.64575131, 2.82842712, 3.        ])"
            ]
          },
          "metadata": {
            "tags": []
          },
          "execution_count": 22
        }
      ]
    },
    {
      "cell_type": "code",
      "metadata": {
        "colab": {
          "base_uri": "https://localhost:8080/"
        },
        "id": "TvB0nZLmqvR-",
        "outputId": "d53fa1cc-6a49-4670-fa09-039576ef8e99"
      },
      "source": [
        "np.exp(arr)"
      ],
      "execution_count": 23,
      "outputs": [
        {
          "output_type": "execute_result",
          "data": {
            "text/plain": [
              "array([1.00000000e+00, 2.71828183e+00, 7.38905610e+00, 2.00855369e+01,\n",
              "       5.45981500e+01, 1.48413159e+02, 4.03428793e+02, 1.09663316e+03,\n",
              "       2.98095799e+03, 8.10308393e+03])"
            ]
          },
          "metadata": {
            "tags": []
          },
          "execution_count": 23
        }
      ]
    },
    {
      "cell_type": "code",
      "metadata": {
        "id": "eDWgmuYHr6fO"
      },
      "source": [
        "x = np.random.randn(8)"
      ],
      "execution_count": 25,
      "outputs": []
    },
    {
      "cell_type": "code",
      "metadata": {
        "id": "i_002mi0yPpO"
      },
      "source": [
        "y = np.random.randn(8)"
      ],
      "execution_count": 26,
      "outputs": []
    },
    {
      "cell_type": "code",
      "metadata": {
        "colab": {
          "base_uri": "https://localhost:8080/"
        },
        "id": "LX1RoUmNyWc-",
        "outputId": "e5f68495-d08c-4b1d-c1a8-767ec82a5ac8"
      },
      "source": [
        "x"
      ],
      "execution_count": 27,
      "outputs": [
        {
          "output_type": "execute_result",
          "data": {
            "text/plain": [
              "array([ 1.12320774, -0.91912039, -0.63721097,  1.2540996 , -0.87624194,\n",
              "        1.32845601,  0.45751105, -1.90253123])"
            ]
          },
          "metadata": {
            "tags": []
          },
          "execution_count": 27
        }
      ]
    },
    {
      "cell_type": "code",
      "metadata": {
        "colab": {
          "base_uri": "https://localhost:8080/"
        },
        "id": "HMF_Ra9OyY8f",
        "outputId": "f91cb212-0cec-4cf0-f31f-3360256272ef"
      },
      "source": [
        "y"
      ],
      "execution_count": 28,
      "outputs": [
        {
          "output_type": "execute_result",
          "data": {
            "text/plain": [
              "array([ 0.50470657, -0.05370434, -0.02808206, -1.05318628,  0.53243383,\n",
              "        0.43575647, -0.69675439, -1.01665376])"
            ]
          },
          "metadata": {
            "tags": []
          },
          "execution_count": 28
        }
      ]
    },
    {
      "cell_type": "code",
      "metadata": {
        "colab": {
          "base_uri": "https://localhost:8080/"
        },
        "id": "sBSYETNqydpA",
        "outputId": "376b5f02-137f-4318-9890-eb57995a9e4c"
      },
      "source": [
        "np.maximum(x,y)"
      ],
      "execution_count": 30,
      "outputs": [
        {
          "output_type": "execute_result",
          "data": {
            "text/plain": [
              "array([ 1.12320774, -0.05370434, -0.02808206,  1.2540996 ,  0.53243383,\n",
              "        1.32845601,  0.45751105, -1.01665376])"
            ]
          },
          "metadata": {
            "tags": []
          },
          "execution_count": 30
        }
      ]
    },
    {
      "cell_type": "code",
      "metadata": {
        "colab": {
          "base_uri": "https://localhost:8080/"
        },
        "id": "nAAzjSiiy09P",
        "outputId": "38e8c913-ece5-4511-eb84-9877780f9125"
      },
      "source": [
        "arr = np.random.randn(7)*5\r\n",
        "arr"
      ],
      "execution_count": 32,
      "outputs": [
        {
          "output_type": "execute_result",
          "data": {
            "text/plain": [
              "array([-9.85052396,  2.06596675,  7.43663589,  6.32751479, -7.04944845,\n",
              "       -6.63672355, -0.96486389])"
            ]
          },
          "metadata": {
            "tags": []
          },
          "execution_count": 32
        }
      ]
    },
    {
      "cell_type": "code",
      "metadata": {
        "id": "C-cgIVcv1Y_u"
      },
      "source": [
        "remainder, whole_part = np.modf(arr)\r\n"
      ],
      "execution_count": 33,
      "outputs": []
    },
    {
      "cell_type": "code",
      "metadata": {
        "colab": {
          "base_uri": "https://localhost:8080/"
        },
        "id": "PCs2iDFb1esu",
        "outputId": "861a32bb-d917-4369-ed7d-f18996114009"
      },
      "source": [
        "remainder"
      ],
      "execution_count": 34,
      "outputs": [
        {
          "output_type": "execute_result",
          "data": {
            "text/plain": [
              "array([-0.85052396,  0.06596675,  0.43663589,  0.32751479, -0.04944845,\n",
              "       -0.63672355, -0.96486389])"
            ]
          },
          "metadata": {
            "tags": []
          },
          "execution_count": 34
        }
      ]
    },
    {
      "cell_type": "code",
      "metadata": {
        "colab": {
          "base_uri": "https://localhost:8080/"
        },
        "id": "YbKitoOG1g9-",
        "outputId": "a0ea6508-550a-403b-a16d-bc38e3c47e98"
      },
      "source": [
        "whole_part"
      ],
      "execution_count": 35,
      "outputs": [
        {
          "output_type": "execute_result",
          "data": {
            "text/plain": [
              "array([-9.,  2.,  7.,  6., -7., -6., -0.])"
            ]
          },
          "metadata": {
            "tags": []
          },
          "execution_count": 35
        }
      ]
    },
    {
      "cell_type": "code",
      "metadata": {
        "colab": {
          "base_uri": "https://localhost:8080/"
        },
        "id": "Qy7iJHEp1rf7",
        "outputId": "39172de0-abb6-482a-9348-89898180cc5e"
      },
      "source": [
        "points = np.arange(-5, 5, 0.01)\r\n",
        "points"
      ],
      "execution_count": 37,
      "outputs": [
        {
          "output_type": "execute_result",
          "data": {
            "text/plain": [
              "array([-5.0000000e+00, -4.9900000e+00, -4.9800000e+00, -4.9700000e+00,\n",
              "       -4.9600000e+00, -4.9500000e+00, -4.9400000e+00, -4.9300000e+00,\n",
              "       -4.9200000e+00, -4.9100000e+00, -4.9000000e+00, -4.8900000e+00,\n",
              "       -4.8800000e+00, -4.8700000e+00, -4.8600000e+00, -4.8500000e+00,\n",
              "       -4.8400000e+00, -4.8300000e+00, -4.8200000e+00, -4.8100000e+00,\n",
              "       -4.8000000e+00, -4.7900000e+00, -4.7800000e+00, -4.7700000e+00,\n",
              "       -4.7600000e+00, -4.7500000e+00, -4.7400000e+00, -4.7300000e+00,\n",
              "       -4.7200000e+00, -4.7100000e+00, -4.7000000e+00, -4.6900000e+00,\n",
              "       -4.6800000e+00, -4.6700000e+00, -4.6600000e+00, -4.6500000e+00,\n",
              "       -4.6400000e+00, -4.6300000e+00, -4.6200000e+00, -4.6100000e+00,\n",
              "       -4.6000000e+00, -4.5900000e+00, -4.5800000e+00, -4.5700000e+00,\n",
              "       -4.5600000e+00, -4.5500000e+00, -4.5400000e+00, -4.5300000e+00,\n",
              "       -4.5200000e+00, -4.5100000e+00, -4.5000000e+00, -4.4900000e+00,\n",
              "       -4.4800000e+00, -4.4700000e+00, -4.4600000e+00, -4.4500000e+00,\n",
              "       -4.4400000e+00, -4.4300000e+00, -4.4200000e+00, -4.4100000e+00,\n",
              "       -4.4000000e+00, -4.3900000e+00, -4.3800000e+00, -4.3700000e+00,\n",
              "       -4.3600000e+00, -4.3500000e+00, -4.3400000e+00, -4.3300000e+00,\n",
              "       -4.3200000e+00, -4.3100000e+00, -4.3000000e+00, -4.2900000e+00,\n",
              "       -4.2800000e+00, -4.2700000e+00, -4.2600000e+00, -4.2500000e+00,\n",
              "       -4.2400000e+00, -4.2300000e+00, -4.2200000e+00, -4.2100000e+00,\n",
              "       -4.2000000e+00, -4.1900000e+00, -4.1800000e+00, -4.1700000e+00,\n",
              "       -4.1600000e+00, -4.1500000e+00, -4.1400000e+00, -4.1300000e+00,\n",
              "       -4.1200000e+00, -4.1100000e+00, -4.1000000e+00, -4.0900000e+00,\n",
              "       -4.0800000e+00, -4.0700000e+00, -4.0600000e+00, -4.0500000e+00,\n",
              "       -4.0400000e+00, -4.0300000e+00, -4.0200000e+00, -4.0100000e+00,\n",
              "       -4.0000000e+00, -3.9900000e+00, -3.9800000e+00, -3.9700000e+00,\n",
              "       -3.9600000e+00, -3.9500000e+00, -3.9400000e+00, -3.9300000e+00,\n",
              "       -3.9200000e+00, -3.9100000e+00, -3.9000000e+00, -3.8900000e+00,\n",
              "       -3.8800000e+00, -3.8700000e+00, -3.8600000e+00, -3.8500000e+00,\n",
              "       -3.8400000e+00, -3.8300000e+00, -3.8200000e+00, -3.8100000e+00,\n",
              "       -3.8000000e+00, -3.7900000e+00, -3.7800000e+00, -3.7700000e+00,\n",
              "       -3.7600000e+00, -3.7500000e+00, -3.7400000e+00, -3.7300000e+00,\n",
              "       -3.7200000e+00, -3.7100000e+00, -3.7000000e+00, -3.6900000e+00,\n",
              "       -3.6800000e+00, -3.6700000e+00, -3.6600000e+00, -3.6500000e+00,\n",
              "       -3.6400000e+00, -3.6300000e+00, -3.6200000e+00, -3.6100000e+00,\n",
              "       -3.6000000e+00, -3.5900000e+00, -3.5800000e+00, -3.5700000e+00,\n",
              "       -3.5600000e+00, -3.5500000e+00, -3.5400000e+00, -3.5300000e+00,\n",
              "       -3.5200000e+00, -3.5100000e+00, -3.5000000e+00, -3.4900000e+00,\n",
              "       -3.4800000e+00, -3.4700000e+00, -3.4600000e+00, -3.4500000e+00,\n",
              "       -3.4400000e+00, -3.4300000e+00, -3.4200000e+00, -3.4100000e+00,\n",
              "       -3.4000000e+00, -3.3900000e+00, -3.3800000e+00, -3.3700000e+00,\n",
              "       -3.3600000e+00, -3.3500000e+00, -3.3400000e+00, -3.3300000e+00,\n",
              "       -3.3200000e+00, -3.3100000e+00, -3.3000000e+00, -3.2900000e+00,\n",
              "       -3.2800000e+00, -3.2700000e+00, -3.2600000e+00, -3.2500000e+00,\n",
              "       -3.2400000e+00, -3.2300000e+00, -3.2200000e+00, -3.2100000e+00,\n",
              "       -3.2000000e+00, -3.1900000e+00, -3.1800000e+00, -3.1700000e+00,\n",
              "       -3.1600000e+00, -3.1500000e+00, -3.1400000e+00, -3.1300000e+00,\n",
              "       -3.1200000e+00, -3.1100000e+00, -3.1000000e+00, -3.0900000e+00,\n",
              "       -3.0800000e+00, -3.0700000e+00, -3.0600000e+00, -3.0500000e+00,\n",
              "       -3.0400000e+00, -3.0300000e+00, -3.0200000e+00, -3.0100000e+00,\n",
              "       -3.0000000e+00, -2.9900000e+00, -2.9800000e+00, -2.9700000e+00,\n",
              "       -2.9600000e+00, -2.9500000e+00, -2.9400000e+00, -2.9300000e+00,\n",
              "       -2.9200000e+00, -2.9100000e+00, -2.9000000e+00, -2.8900000e+00,\n",
              "       -2.8800000e+00, -2.8700000e+00, -2.8600000e+00, -2.8500000e+00,\n",
              "       -2.8400000e+00, -2.8300000e+00, -2.8200000e+00, -2.8100000e+00,\n",
              "       -2.8000000e+00, -2.7900000e+00, -2.7800000e+00, -2.7700000e+00,\n",
              "       -2.7600000e+00, -2.7500000e+00, -2.7400000e+00, -2.7300000e+00,\n",
              "       -2.7200000e+00, -2.7100000e+00, -2.7000000e+00, -2.6900000e+00,\n",
              "       -2.6800000e+00, -2.6700000e+00, -2.6600000e+00, -2.6500000e+00,\n",
              "       -2.6400000e+00, -2.6300000e+00, -2.6200000e+00, -2.6100000e+00,\n",
              "       -2.6000000e+00, -2.5900000e+00, -2.5800000e+00, -2.5700000e+00,\n",
              "       -2.5600000e+00, -2.5500000e+00, -2.5400000e+00, -2.5300000e+00,\n",
              "       -2.5200000e+00, -2.5100000e+00, -2.5000000e+00, -2.4900000e+00,\n",
              "       -2.4800000e+00, -2.4700000e+00, -2.4600000e+00, -2.4500000e+00,\n",
              "       -2.4400000e+00, -2.4300000e+00, -2.4200000e+00, -2.4100000e+00,\n",
              "       -2.4000000e+00, -2.3900000e+00, -2.3800000e+00, -2.3700000e+00,\n",
              "       -2.3600000e+00, -2.3500000e+00, -2.3400000e+00, -2.3300000e+00,\n",
              "       -2.3200000e+00, -2.3100000e+00, -2.3000000e+00, -2.2900000e+00,\n",
              "       -2.2800000e+00, -2.2700000e+00, -2.2600000e+00, -2.2500000e+00,\n",
              "       -2.2400000e+00, -2.2300000e+00, -2.2200000e+00, -2.2100000e+00,\n",
              "       -2.2000000e+00, -2.1900000e+00, -2.1800000e+00, -2.1700000e+00,\n",
              "       -2.1600000e+00, -2.1500000e+00, -2.1400000e+00, -2.1300000e+00,\n",
              "       -2.1200000e+00, -2.1100000e+00, -2.1000000e+00, -2.0900000e+00,\n",
              "       -2.0800000e+00, -2.0700000e+00, -2.0600000e+00, -2.0500000e+00,\n",
              "       -2.0400000e+00, -2.0300000e+00, -2.0200000e+00, -2.0100000e+00,\n",
              "       -2.0000000e+00, -1.9900000e+00, -1.9800000e+00, -1.9700000e+00,\n",
              "       -1.9600000e+00, -1.9500000e+00, -1.9400000e+00, -1.9300000e+00,\n",
              "       -1.9200000e+00, -1.9100000e+00, -1.9000000e+00, -1.8900000e+00,\n",
              "       -1.8800000e+00, -1.8700000e+00, -1.8600000e+00, -1.8500000e+00,\n",
              "       -1.8400000e+00, -1.8300000e+00, -1.8200000e+00, -1.8100000e+00,\n",
              "       -1.8000000e+00, -1.7900000e+00, -1.7800000e+00, -1.7700000e+00,\n",
              "       -1.7600000e+00, -1.7500000e+00, -1.7400000e+00, -1.7300000e+00,\n",
              "       -1.7200000e+00, -1.7100000e+00, -1.7000000e+00, -1.6900000e+00,\n",
              "       -1.6800000e+00, -1.6700000e+00, -1.6600000e+00, -1.6500000e+00,\n",
              "       -1.6400000e+00, -1.6300000e+00, -1.6200000e+00, -1.6100000e+00,\n",
              "       -1.6000000e+00, -1.5900000e+00, -1.5800000e+00, -1.5700000e+00,\n",
              "       -1.5600000e+00, -1.5500000e+00, -1.5400000e+00, -1.5300000e+00,\n",
              "       -1.5200000e+00, -1.5100000e+00, -1.5000000e+00, -1.4900000e+00,\n",
              "       -1.4800000e+00, -1.4700000e+00, -1.4600000e+00, -1.4500000e+00,\n",
              "       -1.4400000e+00, -1.4300000e+00, -1.4200000e+00, -1.4100000e+00,\n",
              "       -1.4000000e+00, -1.3900000e+00, -1.3800000e+00, -1.3700000e+00,\n",
              "       -1.3600000e+00, -1.3500000e+00, -1.3400000e+00, -1.3300000e+00,\n",
              "       -1.3200000e+00, -1.3100000e+00, -1.3000000e+00, -1.2900000e+00,\n",
              "       -1.2800000e+00, -1.2700000e+00, -1.2600000e+00, -1.2500000e+00,\n",
              "       -1.2400000e+00, -1.2300000e+00, -1.2200000e+00, -1.2100000e+00,\n",
              "       -1.2000000e+00, -1.1900000e+00, -1.1800000e+00, -1.1700000e+00,\n",
              "       -1.1600000e+00, -1.1500000e+00, -1.1400000e+00, -1.1300000e+00,\n",
              "       -1.1200000e+00, -1.1100000e+00, -1.1000000e+00, -1.0900000e+00,\n",
              "       -1.0800000e+00, -1.0700000e+00, -1.0600000e+00, -1.0500000e+00,\n",
              "       -1.0400000e+00, -1.0300000e+00, -1.0200000e+00, -1.0100000e+00,\n",
              "       -1.0000000e+00, -9.9000000e-01, -9.8000000e-01, -9.7000000e-01,\n",
              "       -9.6000000e-01, -9.5000000e-01, -9.4000000e-01, -9.3000000e-01,\n",
              "       -9.2000000e-01, -9.1000000e-01, -9.0000000e-01, -8.9000000e-01,\n",
              "       -8.8000000e-01, -8.7000000e-01, -8.6000000e-01, -8.5000000e-01,\n",
              "       -8.4000000e-01, -8.3000000e-01, -8.2000000e-01, -8.1000000e-01,\n",
              "       -8.0000000e-01, -7.9000000e-01, -7.8000000e-01, -7.7000000e-01,\n",
              "       -7.6000000e-01, -7.5000000e-01, -7.4000000e-01, -7.3000000e-01,\n",
              "       -7.2000000e-01, -7.1000000e-01, -7.0000000e-01, -6.9000000e-01,\n",
              "       -6.8000000e-01, -6.7000000e-01, -6.6000000e-01, -6.5000000e-01,\n",
              "       -6.4000000e-01, -6.3000000e-01, -6.2000000e-01, -6.1000000e-01,\n",
              "       -6.0000000e-01, -5.9000000e-01, -5.8000000e-01, -5.7000000e-01,\n",
              "       -5.6000000e-01, -5.5000000e-01, -5.4000000e-01, -5.3000000e-01,\n",
              "       -5.2000000e-01, -5.1000000e-01, -5.0000000e-01, -4.9000000e-01,\n",
              "       -4.8000000e-01, -4.7000000e-01, -4.6000000e-01, -4.5000000e-01,\n",
              "       -4.4000000e-01, -4.3000000e-01, -4.2000000e-01, -4.1000000e-01,\n",
              "       -4.0000000e-01, -3.9000000e-01, -3.8000000e-01, -3.7000000e-01,\n",
              "       -3.6000000e-01, -3.5000000e-01, -3.4000000e-01, -3.3000000e-01,\n",
              "       -3.2000000e-01, -3.1000000e-01, -3.0000000e-01, -2.9000000e-01,\n",
              "       -2.8000000e-01, -2.7000000e-01, -2.6000000e-01, -2.5000000e-01,\n",
              "       -2.4000000e-01, -2.3000000e-01, -2.2000000e-01, -2.1000000e-01,\n",
              "       -2.0000000e-01, -1.9000000e-01, -1.8000000e-01, -1.7000000e-01,\n",
              "       -1.6000000e-01, -1.5000000e-01, -1.4000000e-01, -1.3000000e-01,\n",
              "       -1.2000000e-01, -1.1000000e-01, -1.0000000e-01, -9.0000000e-02,\n",
              "       -8.0000000e-02, -7.0000000e-02, -6.0000000e-02, -5.0000000e-02,\n",
              "       -4.0000000e-02, -3.0000000e-02, -2.0000000e-02, -1.0000000e-02,\n",
              "       -1.0658141e-13,  1.0000000e-02,  2.0000000e-02,  3.0000000e-02,\n",
              "        4.0000000e-02,  5.0000000e-02,  6.0000000e-02,  7.0000000e-02,\n",
              "        8.0000000e-02,  9.0000000e-02,  1.0000000e-01,  1.1000000e-01,\n",
              "        1.2000000e-01,  1.3000000e-01,  1.4000000e-01,  1.5000000e-01,\n",
              "        1.6000000e-01,  1.7000000e-01,  1.8000000e-01,  1.9000000e-01,\n",
              "        2.0000000e-01,  2.1000000e-01,  2.2000000e-01,  2.3000000e-01,\n",
              "        2.4000000e-01,  2.5000000e-01,  2.6000000e-01,  2.7000000e-01,\n",
              "        2.8000000e-01,  2.9000000e-01,  3.0000000e-01,  3.1000000e-01,\n",
              "        3.2000000e-01,  3.3000000e-01,  3.4000000e-01,  3.5000000e-01,\n",
              "        3.6000000e-01,  3.7000000e-01,  3.8000000e-01,  3.9000000e-01,\n",
              "        4.0000000e-01,  4.1000000e-01,  4.2000000e-01,  4.3000000e-01,\n",
              "        4.4000000e-01,  4.5000000e-01,  4.6000000e-01,  4.7000000e-01,\n",
              "        4.8000000e-01,  4.9000000e-01,  5.0000000e-01,  5.1000000e-01,\n",
              "        5.2000000e-01,  5.3000000e-01,  5.4000000e-01,  5.5000000e-01,\n",
              "        5.6000000e-01,  5.7000000e-01,  5.8000000e-01,  5.9000000e-01,\n",
              "        6.0000000e-01,  6.1000000e-01,  6.2000000e-01,  6.3000000e-01,\n",
              "        6.4000000e-01,  6.5000000e-01,  6.6000000e-01,  6.7000000e-01,\n",
              "        6.8000000e-01,  6.9000000e-01,  7.0000000e-01,  7.1000000e-01,\n",
              "        7.2000000e-01,  7.3000000e-01,  7.4000000e-01,  7.5000000e-01,\n",
              "        7.6000000e-01,  7.7000000e-01,  7.8000000e-01,  7.9000000e-01,\n",
              "        8.0000000e-01,  8.1000000e-01,  8.2000000e-01,  8.3000000e-01,\n",
              "        8.4000000e-01,  8.5000000e-01,  8.6000000e-01,  8.7000000e-01,\n",
              "        8.8000000e-01,  8.9000000e-01,  9.0000000e-01,  9.1000000e-01,\n",
              "        9.2000000e-01,  9.3000000e-01,  9.4000000e-01,  9.5000000e-01,\n",
              "        9.6000000e-01,  9.7000000e-01,  9.8000000e-01,  9.9000000e-01,\n",
              "        1.0000000e+00,  1.0100000e+00,  1.0200000e+00,  1.0300000e+00,\n",
              "        1.0400000e+00,  1.0500000e+00,  1.0600000e+00,  1.0700000e+00,\n",
              "        1.0800000e+00,  1.0900000e+00,  1.1000000e+00,  1.1100000e+00,\n",
              "        1.1200000e+00,  1.1300000e+00,  1.1400000e+00,  1.1500000e+00,\n",
              "        1.1600000e+00,  1.1700000e+00,  1.1800000e+00,  1.1900000e+00,\n",
              "        1.2000000e+00,  1.2100000e+00,  1.2200000e+00,  1.2300000e+00,\n",
              "        1.2400000e+00,  1.2500000e+00,  1.2600000e+00,  1.2700000e+00,\n",
              "        1.2800000e+00,  1.2900000e+00,  1.3000000e+00,  1.3100000e+00,\n",
              "        1.3200000e+00,  1.3300000e+00,  1.3400000e+00,  1.3500000e+00,\n",
              "        1.3600000e+00,  1.3700000e+00,  1.3800000e+00,  1.3900000e+00,\n",
              "        1.4000000e+00,  1.4100000e+00,  1.4200000e+00,  1.4300000e+00,\n",
              "        1.4400000e+00,  1.4500000e+00,  1.4600000e+00,  1.4700000e+00,\n",
              "        1.4800000e+00,  1.4900000e+00,  1.5000000e+00,  1.5100000e+00,\n",
              "        1.5200000e+00,  1.5300000e+00,  1.5400000e+00,  1.5500000e+00,\n",
              "        1.5600000e+00,  1.5700000e+00,  1.5800000e+00,  1.5900000e+00,\n",
              "        1.6000000e+00,  1.6100000e+00,  1.6200000e+00,  1.6300000e+00,\n",
              "        1.6400000e+00,  1.6500000e+00,  1.6600000e+00,  1.6700000e+00,\n",
              "        1.6800000e+00,  1.6900000e+00,  1.7000000e+00,  1.7100000e+00,\n",
              "        1.7200000e+00,  1.7300000e+00,  1.7400000e+00,  1.7500000e+00,\n",
              "        1.7600000e+00,  1.7700000e+00,  1.7800000e+00,  1.7900000e+00,\n",
              "        1.8000000e+00,  1.8100000e+00,  1.8200000e+00,  1.8300000e+00,\n",
              "        1.8400000e+00,  1.8500000e+00,  1.8600000e+00,  1.8700000e+00,\n",
              "        1.8800000e+00,  1.8900000e+00,  1.9000000e+00,  1.9100000e+00,\n",
              "        1.9200000e+00,  1.9300000e+00,  1.9400000e+00,  1.9500000e+00,\n",
              "        1.9600000e+00,  1.9700000e+00,  1.9800000e+00,  1.9900000e+00,\n",
              "        2.0000000e+00,  2.0100000e+00,  2.0200000e+00,  2.0300000e+00,\n",
              "        2.0400000e+00,  2.0500000e+00,  2.0600000e+00,  2.0700000e+00,\n",
              "        2.0800000e+00,  2.0900000e+00,  2.1000000e+00,  2.1100000e+00,\n",
              "        2.1200000e+00,  2.1300000e+00,  2.1400000e+00,  2.1500000e+00,\n",
              "        2.1600000e+00,  2.1700000e+00,  2.1800000e+00,  2.1900000e+00,\n",
              "        2.2000000e+00,  2.2100000e+00,  2.2200000e+00,  2.2300000e+00,\n",
              "        2.2400000e+00,  2.2500000e+00,  2.2600000e+00,  2.2700000e+00,\n",
              "        2.2800000e+00,  2.2900000e+00,  2.3000000e+00,  2.3100000e+00,\n",
              "        2.3200000e+00,  2.3300000e+00,  2.3400000e+00,  2.3500000e+00,\n",
              "        2.3600000e+00,  2.3700000e+00,  2.3800000e+00,  2.3900000e+00,\n",
              "        2.4000000e+00,  2.4100000e+00,  2.4200000e+00,  2.4300000e+00,\n",
              "        2.4400000e+00,  2.4500000e+00,  2.4600000e+00,  2.4700000e+00,\n",
              "        2.4800000e+00,  2.4900000e+00,  2.5000000e+00,  2.5100000e+00,\n",
              "        2.5200000e+00,  2.5300000e+00,  2.5400000e+00,  2.5500000e+00,\n",
              "        2.5600000e+00,  2.5700000e+00,  2.5800000e+00,  2.5900000e+00,\n",
              "        2.6000000e+00,  2.6100000e+00,  2.6200000e+00,  2.6300000e+00,\n",
              "        2.6400000e+00,  2.6500000e+00,  2.6600000e+00,  2.6700000e+00,\n",
              "        2.6800000e+00,  2.6900000e+00,  2.7000000e+00,  2.7100000e+00,\n",
              "        2.7200000e+00,  2.7300000e+00,  2.7400000e+00,  2.7500000e+00,\n",
              "        2.7600000e+00,  2.7700000e+00,  2.7800000e+00,  2.7900000e+00,\n",
              "        2.8000000e+00,  2.8100000e+00,  2.8200000e+00,  2.8300000e+00,\n",
              "        2.8400000e+00,  2.8500000e+00,  2.8600000e+00,  2.8700000e+00,\n",
              "        2.8800000e+00,  2.8900000e+00,  2.9000000e+00,  2.9100000e+00,\n",
              "        2.9200000e+00,  2.9300000e+00,  2.9400000e+00,  2.9500000e+00,\n",
              "        2.9600000e+00,  2.9700000e+00,  2.9800000e+00,  2.9900000e+00,\n",
              "        3.0000000e+00,  3.0100000e+00,  3.0200000e+00,  3.0300000e+00,\n",
              "        3.0400000e+00,  3.0500000e+00,  3.0600000e+00,  3.0700000e+00,\n",
              "        3.0800000e+00,  3.0900000e+00,  3.1000000e+00,  3.1100000e+00,\n",
              "        3.1200000e+00,  3.1300000e+00,  3.1400000e+00,  3.1500000e+00,\n",
              "        3.1600000e+00,  3.1700000e+00,  3.1800000e+00,  3.1900000e+00,\n",
              "        3.2000000e+00,  3.2100000e+00,  3.2200000e+00,  3.2300000e+00,\n",
              "        3.2400000e+00,  3.2500000e+00,  3.2600000e+00,  3.2700000e+00,\n",
              "        3.2800000e+00,  3.2900000e+00,  3.3000000e+00,  3.3100000e+00,\n",
              "        3.3200000e+00,  3.3300000e+00,  3.3400000e+00,  3.3500000e+00,\n",
              "        3.3600000e+00,  3.3700000e+00,  3.3800000e+00,  3.3900000e+00,\n",
              "        3.4000000e+00,  3.4100000e+00,  3.4200000e+00,  3.4300000e+00,\n",
              "        3.4400000e+00,  3.4500000e+00,  3.4600000e+00,  3.4700000e+00,\n",
              "        3.4800000e+00,  3.4900000e+00,  3.5000000e+00,  3.5100000e+00,\n",
              "        3.5200000e+00,  3.5300000e+00,  3.5400000e+00,  3.5500000e+00,\n",
              "        3.5600000e+00,  3.5700000e+00,  3.5800000e+00,  3.5900000e+00,\n",
              "        3.6000000e+00,  3.6100000e+00,  3.6200000e+00,  3.6300000e+00,\n",
              "        3.6400000e+00,  3.6500000e+00,  3.6600000e+00,  3.6700000e+00,\n",
              "        3.6800000e+00,  3.6900000e+00,  3.7000000e+00,  3.7100000e+00,\n",
              "        3.7200000e+00,  3.7300000e+00,  3.7400000e+00,  3.7500000e+00,\n",
              "        3.7600000e+00,  3.7700000e+00,  3.7800000e+00,  3.7900000e+00,\n",
              "        3.8000000e+00,  3.8100000e+00,  3.8200000e+00,  3.8300000e+00,\n",
              "        3.8400000e+00,  3.8500000e+00,  3.8600000e+00,  3.8700000e+00,\n",
              "        3.8800000e+00,  3.8900000e+00,  3.9000000e+00,  3.9100000e+00,\n",
              "        3.9200000e+00,  3.9300000e+00,  3.9400000e+00,  3.9500000e+00,\n",
              "        3.9600000e+00,  3.9700000e+00,  3.9800000e+00,  3.9900000e+00,\n",
              "        4.0000000e+00,  4.0100000e+00,  4.0200000e+00,  4.0300000e+00,\n",
              "        4.0400000e+00,  4.0500000e+00,  4.0600000e+00,  4.0700000e+00,\n",
              "        4.0800000e+00,  4.0900000e+00,  4.1000000e+00,  4.1100000e+00,\n",
              "        4.1200000e+00,  4.1300000e+00,  4.1400000e+00,  4.1500000e+00,\n",
              "        4.1600000e+00,  4.1700000e+00,  4.1800000e+00,  4.1900000e+00,\n",
              "        4.2000000e+00,  4.2100000e+00,  4.2200000e+00,  4.2300000e+00,\n",
              "        4.2400000e+00,  4.2500000e+00,  4.2600000e+00,  4.2700000e+00,\n",
              "        4.2800000e+00,  4.2900000e+00,  4.3000000e+00,  4.3100000e+00,\n",
              "        4.3200000e+00,  4.3300000e+00,  4.3400000e+00,  4.3500000e+00,\n",
              "        4.3600000e+00,  4.3700000e+00,  4.3800000e+00,  4.3900000e+00,\n",
              "        4.4000000e+00,  4.4100000e+00,  4.4200000e+00,  4.4300000e+00,\n",
              "        4.4400000e+00,  4.4500000e+00,  4.4600000e+00,  4.4700000e+00,\n",
              "        4.4800000e+00,  4.4900000e+00,  4.5000000e+00,  4.5100000e+00,\n",
              "        4.5200000e+00,  4.5300000e+00,  4.5400000e+00,  4.5500000e+00,\n",
              "        4.5600000e+00,  4.5700000e+00,  4.5800000e+00,  4.5900000e+00,\n",
              "        4.6000000e+00,  4.6100000e+00,  4.6200000e+00,  4.6300000e+00,\n",
              "        4.6400000e+00,  4.6500000e+00,  4.6600000e+00,  4.6700000e+00,\n",
              "        4.6800000e+00,  4.6900000e+00,  4.7000000e+00,  4.7100000e+00,\n",
              "        4.7200000e+00,  4.7300000e+00,  4.7400000e+00,  4.7500000e+00,\n",
              "        4.7600000e+00,  4.7700000e+00,  4.7800000e+00,  4.7900000e+00,\n",
              "        4.8000000e+00,  4.8100000e+00,  4.8200000e+00,  4.8300000e+00,\n",
              "        4.8400000e+00,  4.8500000e+00,  4.8600000e+00,  4.8700000e+00,\n",
              "        4.8800000e+00,  4.8900000e+00,  4.9000000e+00,  4.9100000e+00,\n",
              "        4.9200000e+00,  4.9300000e+00,  4.9400000e+00,  4.9500000e+00,\n",
              "        4.9600000e+00,  4.9700000e+00,  4.9800000e+00,  4.9900000e+00])"
            ]
          },
          "metadata": {
            "tags": []
          },
          "execution_count": 37
        }
      ]
    },
    {
      "cell_type": "code",
      "metadata": {
        "id": "rxRA2HA57HM6"
      },
      "source": [
        "xs, ys = np.meshgrid(points, points)"
      ],
      "execution_count": 39,
      "outputs": []
    },
    {
      "cell_type": "code",
      "metadata": {
        "colab": {
          "base_uri": "https://localhost:8080/"
        },
        "id": "PYczr_5F7QQf",
        "outputId": "29f34528-98b6-4e1b-a53c-9dd08891ab09"
      },
      "source": [
        "xs"
      ],
      "execution_count": 40,
      "outputs": [
        {
          "output_type": "execute_result",
          "data": {
            "text/plain": [
              "array([[-5.  , -4.99, -4.98, ...,  4.97,  4.98,  4.99],\n",
              "       [-5.  , -4.99, -4.98, ...,  4.97,  4.98,  4.99],\n",
              "       [-5.  , -4.99, -4.98, ...,  4.97,  4.98,  4.99],\n",
              "       ...,\n",
              "       [-5.  , -4.99, -4.98, ...,  4.97,  4.98,  4.99],\n",
              "       [-5.  , -4.99, -4.98, ...,  4.97,  4.98,  4.99],\n",
              "       [-5.  , -4.99, -4.98, ...,  4.97,  4.98,  4.99]])"
            ]
          },
          "metadata": {
            "tags": []
          },
          "execution_count": 40
        }
      ]
    },
    {
      "cell_type": "code",
      "metadata": {
        "colab": {
          "base_uri": "https://localhost:8080/"
        },
        "id": "q0T2tR6G7VyM",
        "outputId": "a6e17661-ce4e-4ded-e463-5a5ba60afdce"
      },
      "source": [
        "ys"
      ],
      "execution_count": 41,
      "outputs": [
        {
          "output_type": "execute_result",
          "data": {
            "text/plain": [
              "array([[-5.  , -5.  , -5.  , ..., -5.  , -5.  , -5.  ],\n",
              "       [-4.99, -4.99, -4.99, ..., -4.99, -4.99, -4.99],\n",
              "       [-4.98, -4.98, -4.98, ..., -4.98, -4.98, -4.98],\n",
              "       ...,\n",
              "       [ 4.97,  4.97,  4.97, ...,  4.97,  4.97,  4.97],\n",
              "       [ 4.98,  4.98,  4.98, ...,  4.98,  4.98,  4.98],\n",
              "       [ 4.99,  4.99,  4.99, ...,  4.99,  4.99,  4.99]])"
            ]
          },
          "metadata": {
            "tags": []
          },
          "execution_count": 41
        }
      ]
    },
    {
      "cell_type": "code",
      "metadata": {
        "colab": {
          "base_uri": "https://localhost:8080/"
        },
        "id": "_Gy97zk0_Q2p",
        "outputId": "ce062ef8-440a-4baf-cd3c-fedeafa9e9f9"
      },
      "source": [
        "z = np.sqrt(xs ** 2 + ys ** 2)\r\n",
        "z"
      ],
      "execution_count": 43,
      "outputs": [
        {
          "output_type": "execute_result",
          "data": {
            "text/plain": [
              "array([[7.07106781, 7.06400028, 7.05693985, ..., 7.04988652, 7.05693985,\n",
              "        7.06400028],\n",
              "       [7.06400028, 7.05692568, 7.04985815, ..., 7.04279774, 7.04985815,\n",
              "        7.05692568],\n",
              "       [7.05693985, 7.04985815, 7.04278354, ..., 7.03571603, 7.04278354,\n",
              "        7.04985815],\n",
              "       ...,\n",
              "       [7.04988652, 7.04279774, 7.03571603, ..., 7.0286414 , 7.03571603,\n",
              "        7.04279774],\n",
              "       [7.05693985, 7.04985815, 7.04278354, ..., 7.03571603, 7.04278354,\n",
              "        7.04985815],\n",
              "       [7.06400028, 7.05692568, 7.04985815, ..., 7.04279774, 7.04985815,\n",
              "        7.05692568]])"
            ]
          },
          "metadata": {
            "tags": []
          },
          "execution_count": 43
        }
      ]
    },
    {
      "cell_type": "code",
      "metadata": {
        "colab": {
          "base_uri": "https://localhost:8080/",
          "height": 305
        },
        "id": "PftABdre_5P6",
        "outputId": "aad081d0-d39f-4fce-813c-77ee68d20652"
      },
      "source": [
        "import matplotlib.pyplot as plt\r\n",
        "plt.imshow(z, cmap=plt.cm.gray)\r\n",
        "plt.colorbar()\r\n",
        "plt.title(\"Image plot of $\\sqrt{x^2+y^2}$ for a grid of values\")"
      ],
      "execution_count": 44,
      "outputs": [
        {
          "output_type": "execute_result",
          "data": {
            "text/plain": [
              "Text(0.5, 1.0, 'Image plot of $\\\\sqrt{x^2+y^2}$ for a grid of values')"
            ]
          },
          "metadata": {
            "tags": []
          },
          "execution_count": 44
        },
        {
          "output_type": "display_data",
          "data": {
            "image/png": "[encoded data removed]",
            "text/plain": [
              "<Figure size 432x288 with 2 Axes>"
            ]
          },
          "metadata": {
            "tags": [],
            "needs_background": "light"
          }
        }
      ]
    },
    {
      "cell_type": "code",
      "metadata": {
        "id": "7nMcQKeABNYK"
      },
      "source": [
        "xarr = np.array([1.1, 1.2, 1.3, 1.4, 1.5])\r\n",
        "yarr = np.array([2.1, 2.2, 2.3, 2.4, 2.5])"
      ],
      "execution_count": 45,
      "outputs": []
    },
    {
      "cell_type": "code",
      "metadata": {
        "id": "GjlOivo6B36O"
      },
      "source": [
        "cond = np.array([True, False, True, True, False])"
      ],
      "execution_count": 46,
      "outputs": []
    },
    {
      "cell_type": "code",
      "metadata": {
        "colab": {
          "base_uri": "https://localhost:8080/"
        },
        "id": "jV8PSV9SCXuP",
        "outputId": "09dbd287-6e58-40a4-d210-f26338e0db23"
      },
      "source": [
        "result = [(x if c else y)for x,y,c in zip(xarr, yarr, cond)]\r\n",
        "result"
      ],
      "execution_count": 48,
      "outputs": [
        {
          "output_type": "execute_result",
          "data": {
            "text/plain": [
              "[1.1, 2.2, 1.3, 1.4, 2.5]"
            ]
          },
          "metadata": {
            "tags": []
          },
          "execution_count": 48
        }
      ]
    },
    {
      "cell_type": "code",
      "metadata": {
        "colab": {
          "base_uri": "https://localhost:8080/"
        },
        "id": "t7YTGwc6C2ao",
        "outputId": "ece3a2d3-f3c7-4915-c60c-b6288c867a98"
      },
      "source": [
        "result = np.where(cond, xarr, yarr)\r\n",
        "result"
      ],
      "execution_count": 50,
      "outputs": [
        {
          "output_type": "execute_result",
          "data": {
            "text/plain": [
              "array([1.1, 2.2, 1.3, 1.4, 2.5])"
            ]
          },
          "metadata": {
            "tags": []
          },
          "execution_count": 50
        }
      ]
    },
    {
      "cell_type": "code",
      "metadata": {
        "colab": {
          "base_uri": "https://localhost:8080/"
        },
        "id": "vojvnPRBDH5p",
        "outputId": "da80499e-d1b0-4555-b71f-fe35b32312e5"
      },
      "source": [
        "arr = np.random.randn(4,4)\r\n",
        "arr"
      ],
      "execution_count": 51,
      "outputs": [
        {
          "output_type": "execute_result",
          "data": {
            "text/plain": [
              "array([[-0.02694896,  0.99960992, -0.56491848, -1.55911681],\n",
              "       [-0.50876497, -1.04448258,  0.6908794 , -1.1290562 ],\n",
              "       [-0.48560515,  0.42640166,  0.8264854 , -0.52014175],\n",
              "       [ 0.71521119,  1.36505517, -0.94556607,  0.15044096]])"
            ]
          },
          "metadata": {
            "tags": []
          },
          "execution_count": 51
        }
      ]
    },
    {
      "cell_type": "code",
      "metadata": {
        "colab": {
          "base_uri": "https://localhost:8080/"
        },
        "id": "_UQu4OewDQZa",
        "outputId": "2bc71910-9c37-4390-b656-f5a5edd326ab"
      },
      "source": [
        "arr > 0"
      ],
      "execution_count": 53,
      "outputs": [
        {
          "output_type": "execute_result",
          "data": {
            "text/plain": [
              "array([[False,  True, False, False],\n",
              "       [False, False,  True, False],\n",
              "       [False,  True,  True, False],\n",
              "       [ True,  True, False,  True]])"
            ]
          },
          "metadata": {
            "tags": []
          },
          "execution_count": 53
        }
      ]
    },
    {
      "cell_type": "code",
      "metadata": {
        "colab": {
          "base_uri": "https://localhost:8080/"
        },
        "id": "IEWTvzTiDa9Z",
        "outputId": "a380fd92-5325-4289-c029-4306145d7ee8"
      },
      "source": [
        "np.where(arr>0, 2, -2)"
      ],
      "execution_count": 54,
      "outputs": [
        {
          "output_type": "execute_result",
          "data": {
            "text/plain": [
              "array([[-2,  2, -2, -2],\n",
              "       [-2, -2,  2, -2],\n",
              "       [-2,  2,  2, -2],\n",
              "       [ 2,  2, -2,  2]])"
            ]
          },
          "metadata": {
            "tags": []
          },
          "execution_count": 54
        }
      ]
    },
    {
      "cell_type": "code",
      "metadata": {
        "colab": {
          "base_uri": "https://localhost:8080/"
        },
        "id": "njQ4oDYgDlII",
        "outputId": "502d7910-a7c8-4fd1-9b3d-c3860cd76116"
      },
      "source": [
        "np.where(arr>0, 2, arr)"
      ],
      "execution_count": 55,
      "outputs": [
        {
          "output_type": "execute_result",
          "data": {
            "text/plain": [
              "array([[-0.02694896,  2.        , -0.56491848, -1.55911681],\n",
              "       [-0.50876497, -1.04448258,  2.        , -1.1290562 ],\n",
              "       [-0.48560515,  2.        ,  2.        , -0.52014175],\n",
              "       [ 2.        ,  2.        , -0.94556607,  2.        ]])"
            ]
          },
          "metadata": {
            "tags": []
          },
          "execution_count": 55
        }
      ]
    },
    {
      "cell_type": "code",
      "metadata": {
        "colab": {
          "base_uri": "https://localhost:8080/"
        },
        "id": "qBZxb472EGqo",
        "outputId": "06241fbc-8525-4e79-8c57-0f1bfec84d68"
      },
      "source": [
        "arr = np.random.randn(5,4)\r\n",
        "arr"
      ],
      "execution_count": 56,
      "outputs": [
        {
          "output_type": "execute_result",
          "data": {
            "text/plain": [
              "array([[-0.08215673,  1.12856315, -0.37612131,  0.23166814],\n",
              "       [ 2.15392761, -0.79440058, -0.34245012,  0.72500428],\n",
              "       [ 1.36726643, -0.0333079 ,  0.0231526 ,  0.19479955],\n",
              "       [-0.01629914,  0.69970757, -0.03310715,  0.44703448],\n",
              "       [ 0.06557681,  1.37033956, -1.11535756,  0.51763078]])"
            ]
          },
          "metadata": {
            "tags": []
          },
          "execution_count": 56
        }
      ]
    },
    {
      "cell_type": "code",
      "metadata": {
        "colab": {
          "base_uri": "https://localhost:8080/"
        },
        "id": "i2eqjcJVEd74",
        "outputId": "d06c0dc6-4f9f-429b-f590-4abdc76470f4"
      },
      "source": [
        "arr.mean()"
      ],
      "execution_count": 57,
      "outputs": [
        {
          "output_type": "execute_result",
          "data": {
            "text/plain": [
              "0.30657352393899207"
            ]
          },
          "metadata": {
            "tags": []
          },
          "execution_count": 57
        }
      ]
    },
    {
      "cell_type": "code",
      "metadata": {
        "colab": {
          "base_uri": "https://localhost:8080/"
        },
        "id": "HKG_f4Y2Ewko",
        "outputId": "12bacc10-b9e6-43a9-b090-b7257c73d002"
      },
      "source": [
        "arr2 = np.array([[1,2,3],[4,5,6]])\r\n",
        "arr2"
      ],
      "execution_count": 60,
      "outputs": [
        {
          "output_type": "execute_result",
          "data": {
            "text/plain": [
              "array([[1, 2, 3],\n",
              "       [4, 5, 6]])"
            ]
          },
          "metadata": {
            "tags": []
          },
          "execution_count": 60
        }
      ]
    },
    {
      "cell_type": "code",
      "metadata": {
        "colab": {
          "base_uri": "https://localhost:8080/"
        },
        "id": "pb3BM29zE6yY",
        "outputId": "1e92c921-d516-4c3a-8218-6084f3bc0913"
      },
      "source": [
        "arr2.mean()"
      ],
      "execution_count": 62,
      "outputs": [
        {
          "output_type": "execute_result",
          "data": {
            "text/plain": [
              "3.5"
            ]
          },
          "metadata": {
            "tags": []
          },
          "execution_count": 62
        }
      ]
    },
    {
      "cell_type": "code",
      "metadata": {
        "colab": {
          "base_uri": "https://localhost:8080/"
        },
        "id": "VubzsAiUFA6H",
        "outputId": "a180c6a8-904f-4453-f2e8-8a41a6f57939"
      },
      "source": [
        "arr3 = np.array([1,2,3])\r\n",
        "arr3"
      ],
      "execution_count": 63,
      "outputs": [
        {
          "output_type": "execute_result",
          "data": {
            "text/plain": [
              "array([1, 2, 3])"
            ]
          },
          "metadata": {
            "tags": []
          },
          "execution_count": 63
        }
      ]
    },
    {
      "cell_type": "code",
      "metadata": {
        "colab": {
          "base_uri": "https://localhost:8080/"
        },
        "id": "2IuiZw5iFFZH",
        "outputId": "4f8f36e5-efeb-40cf-b867-0d2a4dc9715d"
      },
      "source": [
        "arr3.mean()"
      ],
      "execution_count": 64,
      "outputs": [
        {
          "output_type": "execute_result",
          "data": {
            "text/plain": [
              "2.0"
            ]
          },
          "metadata": {
            "tags": []
          },
          "execution_count": 64
        }
      ]
    },
    {
      "cell_type": "code",
      "metadata": {
        "colab": {
          "base_uri": "https://localhost:8080/"
        },
        "id": "DFqTcL7yFNeo",
        "outputId": "b3aebc9a-ce35-43c8-df57-278ff1c24af9"
      },
      "source": [
        "arr4 = np.array([[1,2,3]])\r\n",
        "arr4"
      ],
      "execution_count": 65,
      "outputs": [
        {
          "output_type": "execute_result",
          "data": {
            "text/plain": [
              "array([[1, 2, 3]])"
            ]
          },
          "metadata": {
            "tags": []
          },
          "execution_count": 65
        }
      ]
    },
    {
      "cell_type": "code",
      "metadata": {
        "colab": {
          "base_uri": "https://localhost:8080/"
        },
        "id": "kuDtJH-aFVY3",
        "outputId": "de0b4584-c72a-4f00-eb98-97d008c60557"
      },
      "source": [
        "arr4.mean()"
      ],
      "execution_count": 67,
      "outputs": [
        {
          "output_type": "execute_result",
          "data": {
            "text/plain": [
              "2.0"
            ]
          },
          "metadata": {
            "tags": []
          },
          "execution_count": 67
        }
      ]
    },
    {
      "cell_type": "code",
      "metadata": {
        "colab": {
          "base_uri": "https://localhost:8080/"
        },
        "id": "h5R3Mna0FYH4",
        "outputId": "567ebc3f-ba81-4e8c-b6dc-de2a132f7a0b"
      },
      "source": [
        "arr4.sum()"
      ],
      "execution_count": 68,
      "outputs": [
        {
          "output_type": "execute_result",
          "data": {
            "text/plain": [
              "6"
            ]
          },
          "metadata": {
            "tags": []
          },
          "execution_count": 68
        }
      ]
    },
    {
      "cell_type": "code",
      "metadata": {
        "colab": {
          "base_uri": "https://localhost:8080/"
        },
        "id": "UPXIoJTGF604",
        "outputId": "f5c3c04d-d8c9-45c4-88fd-2fbe14fe04fb"
      },
      "source": [
        "arr2"
      ],
      "execution_count": 69,
      "outputs": [
        {
          "output_type": "execute_result",
          "data": {
            "text/plain": [
              "array([[1, 2, 3],\n",
              "       [4, 5, 6]])"
            ]
          },
          "metadata": {
            "tags": []
          },
          "execution_count": 69
        }
      ]
    },
    {
      "cell_type": "code",
      "metadata": {
        "colab": {
          "base_uri": "https://localhost:8080/"
        },
        "id": "1uH0d7XbGCMn",
        "outputId": "b3499c5c-daa0-451d-8b4d-6f9d31394007"
      },
      "source": [
        "arr2.mean(1)"
      ],
      "execution_count": 70,
      "outputs": [
        {
          "output_type": "execute_result",
          "data": {
            "text/plain": [
              "array([2., 5.])"
            ]
          },
          "metadata": {
            "tags": []
          },
          "execution_count": 70
        }
      ]
    },
    {
      "cell_type": "code",
      "metadata": {
        "colab": {
          "base_uri": "https://localhost:8080/"
        },
        "id": "aDXYd4bLGJoH",
        "outputId": "4b85b0a1-22b8-4232-fb2f-5f95a1270155"
      },
      "source": [
        "arr2.mean(0)"
      ],
      "execution_count": 71,
      "outputs": [
        {
          "output_type": "execute_result",
          "data": {
            "text/plain": [
              "array([2.5, 3.5, 4.5])"
            ]
          },
          "metadata": {
            "tags": []
          },
          "execution_count": 71
        }
      ]
    },
    {
      "cell_type": "code",
      "metadata": {
        "colab": {
          "base_uri": "https://localhost:8080/"
        },
        "id": "tXX0sXL3GZnn",
        "outputId": "1894ece8-e760-4773-a0fd-a940f25cccae"
      },
      "source": [
        "arr = np.arange(8)\r\n",
        "arr"
      ],
      "execution_count": 73,
      "outputs": [
        {
          "output_type": "execute_result",
          "data": {
            "text/plain": [
              "array([0, 1, 2, 3, 4, 5, 6, 7])"
            ]
          },
          "metadata": {
            "tags": []
          },
          "execution_count": 73
        }
      ]
    },
    {
      "cell_type": "code",
      "metadata": {
        "colab": {
          "base_uri": "https://localhost:8080/"
        },
        "id": "Sf97-qfSHE-X",
        "outputId": "6f629167-722b-441d-ed02-a9f07398a4b8"
      },
      "source": [
        "arr.cumsum()"
      ],
      "execution_count": 74,
      "outputs": [
        {
          "output_type": "execute_result",
          "data": {
            "text/plain": [
              "array([ 0,  1,  3,  6, 10, 15, 21, 28])"
            ]
          },
          "metadata": {
            "tags": []
          },
          "execution_count": 74
        }
      ]
    },
    {
      "cell_type": "code",
      "metadata": {
        "colab": {
          "base_uri": "https://localhost:8080/"
        },
        "id": "1CDL0wM5Jmk9",
        "outputId": "a9dfefc9-e5b3-40a2-ff2a-526718eb9b70"
      },
      "source": [
        "arr = np.random.randn(100)\r\n",
        "arr"
      ],
      "execution_count": 78,
      "outputs": [
        {
          "output_type": "execute_result",
          "data": {
            "text/plain": [
              "array([ 2.02817324, -1.70844576, -1.19030609, -0.85282852,  0.42340419,\n",
              "        0.44354906, -0.63095005, -0.05242998,  1.46133071,  0.34672435,\n",
              "        0.75830672,  0.21319256, -0.98373038,  1.42437273, -1.1371086 ,\n",
              "        1.06071631,  1.83713177, -0.534754  ,  0.34469253,  0.34497052,\n",
              "        1.27060825, -0.23312459,  0.77519174, -1.01541933,  1.74808462,\n",
              "       -0.52145941, -0.80979427, -0.89444576,  0.16634076,  1.21302508,\n",
              "        1.0228825 , -1.01483647,  0.71377615,  1.33785963,  1.25001649,\n",
              "        0.08419908, -0.95726376,  0.89210389, -1.10723742, -0.04377157,\n",
              "       -0.27636236, -0.62802736, -0.67435396,  1.46615698, -0.11750855,\n",
              "       -1.17587332, -3.22615793,  1.26132581,  1.53934399,  0.05224983,\n",
              "        1.20972893, -0.97441354,  2.19857606,  0.31623638, -0.060978  ,\n",
              "        0.01441502, -1.12462629, -0.72810951, -0.42114705, -0.91083943,\n",
              "       -0.4695447 , -0.23573858, -0.08412349,  0.23844218, -0.96772086,\n",
              "        0.679541  , -1.78637906,  1.17206456, -1.26803812, -1.96088498,\n",
              "       -1.43504146,  0.13613975,  0.36514586,  1.90890256,  1.53556135,\n",
              "       -0.71896958,  0.17717774,  1.28900335,  0.25393758, -0.1903383 ,\n",
              "        0.81461478, -1.0505413 ,  0.15203312,  0.74331725,  1.61898616,\n",
              "        0.75343541,  0.55120385,  1.01265946, -1.01479721,  0.06014408,\n",
              "        0.90520932,  0.26188196, -1.22510961,  0.90989219,  1.63952589,\n",
              "        1.22592524, -1.77639801,  1.2240834 ,  0.8988574 , -0.49418641])"
            ]
          },
          "metadata": {
            "tags": []
          },
          "execution_count": 78
        }
      ]
    },
    {
      "cell_type": "code",
      "metadata": {
        "colab": {
          "base_uri": "https://localhost:8080/"
        },
        "id": "nobzSDXjJ3J2",
        "outputId": "ddd50de1-2725-43a4-90cf-a12aa473ab3f"
      },
      "source": [
        "(arr>0)"
      ],
      "execution_count": 79,
      "outputs": [
        {
          "output_type": "execute_result",
          "data": {
            "text/plain": [
              "array([ True, False, False, False,  True,  True, False, False,  True,\n",
              "        True,  True,  True, False,  True, False,  True,  True, False,\n",
              "        True,  True,  True, False,  True, False,  True, False, False,\n",
              "       False,  True,  True,  True, False,  True,  True,  True,  True,\n",
              "       False,  True, False, False, False, False, False,  True, False,\n",
              "       False, False,  True,  True,  True,  True, False,  True,  True,\n",
              "       False,  True, False, False, False, False, False, False, False,\n",
              "        True, False,  True, False,  True, False, False, False,  True,\n",
              "        True,  True,  True, False,  True,  True,  True, False,  True,\n",
              "       False,  True,  True,  True,  True,  True,  True, False,  True,\n",
              "        True,  True, False,  True,  True,  True, False,  True,  True,\n",
              "       False])"
            ]
          },
          "metadata": {
            "tags": []
          },
          "execution_count": 79
        }
      ]
    },
    {
      "cell_type": "code",
      "metadata": {
        "colab": {
          "base_uri": "https://localhost:8080/"
        },
        "id": "yIgeFmMUJ7qG",
        "outputId": "60bd94d6-e269-48c0-9e19-51e78bcba58d"
      },
      "source": [
        "(arr>0).sum()"
      ],
      "execution_count": 80,
      "outputs": [
        {
          "output_type": "execute_result",
          "data": {
            "text/plain": [
              "56"
            ]
          },
          "metadata": {
            "tags": []
          },
          "execution_count": 80
        }
      ]
    },
    {
      "cell_type": "code",
      "metadata": {
        "colab": {
          "base_uri": "https://localhost:8080/"
        },
        "id": "99k5PaEkKCV2",
        "outputId": "5555839e-04b5-49e4-b3f8-30e08cef8152"
      },
      "source": [
        "bools = np.array([False, True, False, False])\r\n",
        "bools.any()"
      ],
      "execution_count": 82,
      "outputs": [
        {
          "output_type": "execute_result",
          "data": {
            "text/plain": [
              "True"
            ]
          },
          "metadata": {
            "tags": []
          },
          "execution_count": 82
        }
      ]
    },
    {
      "cell_type": "code",
      "metadata": {
        "colab": {
          "base_uri": "https://localhost:8080/"
        },
        "id": "brwm2CC9Kh62",
        "outputId": "ca5cf1f9-20e9-41d1-be90-830afb515ee1"
      },
      "source": [
        "bools.all()"
      ],
      "execution_count": 83,
      "outputs": [
        {
          "output_type": "execute_result",
          "data": {
            "text/plain": [
              "False"
            ]
          },
          "metadata": {
            "tags": []
          },
          "execution_count": 83
        }
      ]
    },
    {
      "cell_type": "code",
      "metadata": {
        "colab": {
          "base_uri": "https://localhost:8080/"
        },
        "id": "xBhBynddKnDW",
        "outputId": "8e097f01-d235-47a5-e821-5876e4784fe0"
      },
      "source": [
        "arr = np.random.randn(6)\r\n",
        "arr"
      ],
      "execution_count": 85,
      "outputs": [
        {
          "output_type": "execute_result",
          "data": {
            "text/plain": [
              "array([-0.42828251, -0.18276199,  1.04050948, -0.35422224, -1.14979434,\n",
              "        0.48638599])"
            ]
          },
          "metadata": {
            "tags": []
          },
          "execution_count": 85
        }
      ]
    },
    {
      "cell_type": "code",
      "metadata": {
        "colab": {
          "base_uri": "https://localhost:8080/"
        },
        "id": "CN9IY5y-K5Im",
        "outputId": "9bdc3509-22b9-46a9-ab43-f7949167cfa2"
      },
      "source": [
        "arr.sort()\r\n",
        "arr"
      ],
      "execution_count": 86,
      "outputs": [
        {
          "output_type": "execute_result",
          "data": {
            "text/plain": [
              "array([-1.14979434, -0.42828251, -0.35422224, -0.18276199,  0.48638599,\n",
              "        1.04050948])"
            ]
          },
          "metadata": {
            "tags": []
          },
          "execution_count": 86
        }
      ]
    },
    {
      "cell_type": "code",
      "metadata": {
        "colab": {
          "base_uri": "https://localhost:8080/"
        },
        "id": "kMZ8yo0kLK4m",
        "outputId": "7c6d09af-3d8a-4d6c-9984-a1eee59708ae"
      },
      "source": [
        "arr = np.random.randn(5,3)\r\n",
        "arr"
      ],
      "execution_count": 92,
      "outputs": [
        {
          "output_type": "execute_result",
          "data": {
            "text/plain": [
              "array([[-1.27418387,  0.90170487, -1.01674626],\n",
              "       [ 0.54227673, -0.01144726,  0.40618165],\n",
              "       [ 0.1002267 , -1.94295556, -0.4689237 ],\n",
              "       [-0.71450943,  0.62158461, -1.71037491],\n",
              "       [-0.92764948,  1.5124076 ,  1.75347067]])"
            ]
          },
          "metadata": {
            "tags": []
          },
          "execution_count": 92
        }
      ]
    },
    {
      "cell_type": "code",
      "metadata": {
        "colab": {
          "base_uri": "https://localhost:8080/"
        },
        "id": "Pd1pyeHdLU2l",
        "outputId": "95fae43b-228b-4bd9-b66a-6dbb2297234f"
      },
      "source": [
        "arr.sort(0)\r\n",
        "arr"
      ],
      "execution_count": 93,
      "outputs": [
        {
          "output_type": "execute_result",
          "data": {
            "text/plain": [
              "array([[-1.27418387, -1.94295556, -1.71037491],\n",
              "       [-0.92764948, -0.01144726, -1.01674626],\n",
              "       [-0.71450943,  0.62158461, -0.4689237 ],\n",
              "       [ 0.1002267 ,  0.90170487,  0.40618165],\n",
              "       [ 0.54227673,  1.5124076 ,  1.75347067]])"
            ]
          },
          "metadata": {
            "tags": []
          },
          "execution_count": 93
        }
      ]
    },
    {
      "cell_type": "code",
      "metadata": {
        "colab": {
          "base_uri": "https://localhost:8080/"
        },
        "id": "-LKHBpdCNnrF",
        "outputId": "61256dbb-0f8b-4279-97a2-064ab7a15ebe"
      },
      "source": [
        "large_arr = np.random.randn(1000)\r\n"
      ],
      "execution_count": 96,
      "outputs": [
        {
          "output_type": "execute_result",
          "data": {
            "text/plain": [
              "-0.01631178198020358"
            ]
          },
          "metadata": {
            "tags": []
          },
          "execution_count": 96
        }
      ]
    },
    {
      "cell_type": "code",
      "metadata": {
        "colab": {
          "base_uri": "https://localhost:8080/"
        },
        "id": "f5elg0kiN9oV",
        "outputId": "ec153c56-514a-4a6f-8537-de26b4899adf"
      },
      "source": [
        "large_arr.sort()\r\n",
        "large_arr[int(0.5*len(large_arr))]"
      ],
      "execution_count": 97,
      "outputs": [
        {
          "output_type": "execute_result",
          "data": {
            "text/plain": [
              "-0.01631178198020358"
            ]
          },
          "metadata": {
            "tags": []
          },
          "execution_count": 97
        }
      ]
    },
    {
      "cell_type": "code",
      "metadata": {
        "colab": {
          "base_uri": "https://localhost:8080/"
        },
        "id": "goorE6xdN_Wk",
        "outputId": "e204d57c-86a6-4cae-8e9d-4e66465a80bf"
      },
      "source": [
        "large_arr.sum()//2"
      ],
      "execution_count": 98,
      "outputs": [
        {
          "output_type": "execute_result",
          "data": {
            "text/plain": [
              "-13.0"
            ]
          },
          "metadata": {
            "tags": []
          },
          "execution_count": 98
        }
      ]
    },
    {
      "cell_type": "code",
      "metadata": {
        "colab": {
          "base_uri": "https://localhost:8080/"
        },
        "id": "YLNV1i6JOJV0",
        "outputId": "daa9b670-d44b-42e3-ad74-f11df692fc59"
      },
      "source": [
        "large_arr[int(0.5*len(large_arr))] * len(large_arr)"
      ],
      "execution_count": 99,
      "outputs": [
        {
          "output_type": "execute_result",
          "data": {
            "text/plain": [
              "-16.31178198020358"
            ]
          },
          "metadata": {
            "tags": []
          },
          "execution_count": 99
        }
      ]
    },
    {
      "cell_type": "code",
      "metadata": {
        "colab": {
          "base_uri": "https://localhost:8080/"
        },
        "id": "TnO4d2BvOg6k",
        "outputId": "702a53e4-80ab-4f1b-e912-022cc43e1307"
      },
      "source": [
        "names = np.array(['Bob', 'Joe', 'Will', 'Bob', 'Will', 'Joe', 'Joe'])\r\n",
        "np.unique(names)"
      ],
      "execution_count": 100,
      "outputs": [
        {
          "output_type": "execute_result",
          "data": {
            "text/plain": [
              "array(['Bob', 'Joe', 'Will'], dtype='<U4')"
            ]
          },
          "metadata": {
            "tags": []
          },
          "execution_count": 100
        }
      ]
    },
    {
      "cell_type": "code",
      "metadata": {
        "colab": {
          "base_uri": "https://localhost:8080/"
        },
        "id": "rW1-10UEOxDU",
        "outputId": "a6ec6b9f-c686-4bef-ed45-84e826543069"
      },
      "source": [
        "ints = np.array([3,3,3,2,2,1,1,4,4])\r\n",
        "np.unique(ints)"
      ],
      "execution_count": 101,
      "outputs": [
        {
          "output_type": "execute_result",
          "data": {
            "text/plain": [
              "array([1, 2, 3, 4])"
            ]
          },
          "metadata": {
            "tags": []
          },
          "execution_count": 101
        }
      ]
    },
    {
      "cell_type": "code",
      "metadata": {
        "colab": {
          "base_uri": "https://localhost:8080/"
        },
        "id": "F_4aLnCkQZPT",
        "outputId": "c59cfb4c-f667-4948-dc85-2a33c5cc8e97"
      },
      "source": [
        "values = np.array([6,0,0,3,2,5,6])\r\n",
        "np.in1d(values, [2,3,6])"
      ],
      "execution_count": 102,
      "outputs": [
        {
          "output_type": "execute_result",
          "data": {
            "text/plain": [
              "array([ True, False, False,  True,  True, False,  True])"
            ]
          },
          "metadata": {
            "tags": []
          },
          "execution_count": 102
        }
      ]
    },
    {
      "cell_type": "code",
      "metadata": {
        "id": "xkV-g4gnRDJU"
      },
      "source": [
        "arr = np.arange(10)\r\n",
        "np.save('some_array', arr)"
      ],
      "execution_count": 103,
      "outputs": []
    },
    {
      "cell_type": "code",
      "metadata": {
        "id": "4cSu7I03RNKV",
        "outputId": "51aed2fa-31c3-4406-f4ab-140b70ddb42e",
        "colab": {
          "base_uri": "https://localhost:8080/"
        }
      },
      "source": [
        "np.load('some_array.npy')"
      ],
      "execution_count": 105,
      "outputs": [
        {
          "output_type": "execute_result",
          "data": {
            "text/plain": [
              "array([0, 1, 2, 3, 4, 5, 6, 7, 8, 9])"
            ]
          },
          "metadata": {
            "tags": []
          },
          "execution_count": 105
        }
      ]
    },
    {
      "cell_type": "code",
      "metadata": {
        "id": "La6w7-ETRi0T",
        "outputId": "da459b6f-e8c2-4cfd-8c2b-2cd108dd9d92",
        "colab": {
          "base_uri": "https://localhost:8080/"
        }
      },
      "source": [
        "a = np.array([1,2,3])\r\n",
        "b = np.array([4,5,6])\r\n",
        "np.dot(a,b)"
      ],
      "execution_count": 106,
      "outputs": [
        {
          "output_type": "execute_result",
          "data": {
            "text/plain": [
              "32"
            ]
          },
          "metadata": {
            "tags": []
          },
          "execution_count": 106
        }
      ]
    },
    {
      "cell_type": "code",
      "metadata": {
        "id": "-qeshSzPRvHQ",
        "outputId": "da408c5d-216e-4f02-f20c-c82b90ab4610",
        "colab": {
          "base_uri": "https://localhost:8080/",
          "height": 282
        }
      },
      "source": [
        "import random\r\n",
        "position = 0\r\n",
        "walk = [position]\r\n",
        "steps = 1000\r\n",
        "for i in range(steps):\r\n",
        "  step = 1 if random.randint(0,1) else -1\r\n",
        "  position += step\r\n",
        "  walk.append(position)\r\n",
        "\r\n",
        "plt.plot(walk[:100]) "
      ],
      "execution_count": 108,
      "outputs": [
        {
          "output_type": "execute_result",
          "data": {
            "text/plain": [
              "[<matplotlib.lines.Line2D at 0x7fdf1980a310>]"
            ]
          },
          "metadata": {
            "tags": []
          },
          "execution_count": 108
        },
        {
          "output_type": "display_data",
          "data": {
            "image/png": "[encoded data removed]",
            "text/plain": [
              "<Figure size 432x288 with 1 Axes>"
            ]
          },
          "metadata": {
            "tags": [],
            "needs_background": "light"
          }
        }
      ]
    },
    {
      "cell_type": "code",
      "metadata": {
        "id": "ArQ0idGQV2BP"
      },
      "source": [
        "steps = 1000\r\n",
        "draws = np.rand"
      ],
      "execution_count": null,
      "outputs": []
    }
  ]
}