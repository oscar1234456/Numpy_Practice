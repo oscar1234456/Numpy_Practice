{
  "nbformat": 4,
  "nbformat_minor": 0,
  "metadata": {
    "colab": {
      "name": "Numpy_practice.ipynb",
      "provenance": [],
      "collapsed_sections": [],
      "authorship_tag": "ABX9TyMUFw9yQgqGaeCuXwZkj6UM",
      "include_colab_link": true
    },
    "kernelspec": {
      "name": "python3",
      "display_name": "Python 3"
    }
  },
  "cells": [
    {
      "cell_type": "markdown",
      "metadata": {
        "id": "view-in-github",
        "colab_type": "text"
      },
      "source": [
        "<a href=\"https://colab.research.google.com/github/oscar1234456/Numpy_Practice/blob/main/Numpy_practice.ipynb\" target=\"_parent\"><img src=\"https://colab.research.google.com/assets/colab-badge.svg\" alt=\"Open In Colab\"/></a>"
      ]
    },
    {
      "cell_type": "code",
      "metadata": {
        "id": "x0m62bgdOBO_"
      },
      "source": [
        "import numpy as np"
      ],
      "execution_count": 18,
      "outputs": []
    },
    {
      "cell_type": "code",
      "metadata": {
        "id": "j9GclIwTOnlj"
      },
      "source": [
        "my_arr = np.arange(1000000)"
      ],
      "execution_count": 19,
      "outputs": []
    },
    {
      "cell_type": "code",
      "metadata": {
        "id": "pmbRPmkBOpJV"
      },
      "source": [
        "my_list = list(range(1000000))"
      ],
      "execution_count": 20,
      "outputs": []
    },
    {
      "cell_type": "code",
      "metadata": {
        "colab": {
          "base_uri": "https://localhost:8080/"
        },
        "id": "h6SjyZS3OzuV",
        "outputId": "fc9438a9-5153-4c48-c7ec-7e15d67930ec"
      },
      "source": [
        "%time for _ in range(10): my_arr2 = my_arr * 2"
      ],
      "execution_count": 21,
      "outputs": [
        {
          "output_type": "stream",
          "text": [
            "CPU times: user 19.4 ms, sys: 43 µs, total: 19.4 ms\n",
            "Wall time: 25.1 ms\n"
          ],
          "name": "stdout"
        }
      ]
    },
    {
      "cell_type": "code",
      "metadata": {
        "colab": {
          "base_uri": "https://localhost:8080/"
        },
        "id": "sIpjCPnUPClU",
        "outputId": "09f74d19-d896-44c9-9552-f93ee42b7293"
      },
      "source": [
        "%time for _ in range(10): my_list2 = [x*2 for x in my_list]"
      ],
      "execution_count": 22,
      "outputs": [
        {
          "output_type": "stream",
          "text": [
            "CPU times: user 666 ms, sys: 165 ms, total: 831 ms\n",
            "Wall time: 837 ms\n"
          ],
          "name": "stdout"
        }
      ]
    },
    {
      "cell_type": "code",
      "metadata": {
        "colab": {
          "base_uri": "https://localhost:8080/"
        },
        "id": "K2V6_xtEPVJV",
        "outputId": "254cfaaa-3cb9-4b19-d854-e2a3ab82debd"
      },
      "source": [
        "print(my_arr)"
      ],
      "execution_count": 24,
      "outputs": [
        {
          "output_type": "stream",
          "text": [
            "[     0      1      2 ... 999997 999998 999999]\n"
          ],
          "name": "stdout"
        }
      ]
    },
    {
      "cell_type": "code",
      "metadata": {
        "colab": {
          "base_uri": "https://localhost:8080/"
        },
        "id": "B2so7cXRPbm-",
        "outputId": "5712f9f2-99d2-413b-86c3-45c316d6d93b"
      },
      "source": [
        "data = np.random.randn(2,3)\n",
        "data"
      ],
      "execution_count": 25,
      "outputs": [
        {
          "output_type": "execute_result",
          "data": {
            "text/plain": [
              "array([[ 0.51853476,  1.30596076, -0.87152964],\n",
              "       [ 1.73600556,  0.67705422, -1.27547665]])"
            ]
          },
          "metadata": {
            "tags": []
          },
          "execution_count": 25
        }
      ]
    },
    {
      "cell_type": "code",
      "metadata": {
        "colab": {
          "base_uri": "https://localhost:8080/"
        },
        "id": "QiimKXjKPvS5",
        "outputId": "37bce141-a776-49df-eaa4-a03a628e3914"
      },
      "source": [
        "data = data*2\n",
        "data"
      ],
      "execution_count": 26,
      "outputs": [
        {
          "output_type": "execute_result",
          "data": {
            "text/plain": [
              "array([[ 1.03706952,  2.61192151, -1.74305928],\n",
              "       [ 3.47201111,  1.35410845, -2.55095329]])"
            ]
          },
          "metadata": {
            "tags": []
          },
          "execution_count": 26
        }
      ]
    },
    {
      "cell_type": "code",
      "metadata": {
        "colab": {
          "base_uri": "https://localhost:8080/"
        },
        "id": "gxEHLJTVP21_",
        "outputId": "d23a7bd4-733a-4bef-db94-1a1956ff754c"
      },
      "source": [
        "data+data"
      ],
      "execution_count": 27,
      "outputs": [
        {
          "output_type": "execute_result",
          "data": {
            "text/plain": [
              "array([[ 2.07413904,  5.22384302, -3.48611855],\n",
              "       [ 6.94402222,  2.7082169 , -5.10190658]])"
            ]
          },
          "metadata": {
            "tags": []
          },
          "execution_count": 27
        }
      ]
    },
    {
      "cell_type": "code",
      "metadata": {
        "colab": {
          "base_uri": "https://localhost:8080/"
        },
        "id": "FpuzOGYdQF6k",
        "outputId": "d166398f-9d2d-46a3-8e1e-bb26ef2546d4"
      },
      "source": [
        "type(data)"
      ],
      "execution_count": 28,
      "outputs": [
        {
          "output_type": "execute_result",
          "data": {
            "text/plain": [
              "numpy.ndarray"
            ]
          },
          "metadata": {
            "tags": []
          },
          "execution_count": 28
        }
      ]
    },
    {
      "cell_type": "code",
      "metadata": {
        "colab": {
          "base_uri": "https://localhost:8080/"
        },
        "id": "0oMjTzF2QLJs",
        "outputId": "e92c094a-91d0-42e6-9f28-24e3aec72ae9"
      },
      "source": [
        "data.shape"
      ],
      "execution_count": 32,
      "outputs": [
        {
          "output_type": "execute_result",
          "data": {
            "text/plain": [
              "(2, 3)"
            ]
          },
          "metadata": {
            "tags": []
          },
          "execution_count": 32
        }
      ]
    },
    {
      "cell_type": "code",
      "metadata": {
        "colab": {
          "base_uri": "https://localhost:8080/"
        },
        "id": "IPBhUKYiQT-M",
        "outputId": "d05c7810-3af8-4ee5-e1c6-b57b290c713d"
      },
      "source": [
        "data.dtype"
      ],
      "execution_count": 33,
      "outputs": [
        {
          "output_type": "execute_result",
          "data": {
            "text/plain": [
              "dtype('float64')"
            ]
          },
          "metadata": {
            "tags": []
          },
          "execution_count": 33
        }
      ]
    },
    {
      "cell_type": "code",
      "metadata": {
        "id": "nnrtAXonQdkf"
      },
      "source": [
        "data1 = [6, 7.5, 8, 0, 1]"
      ],
      "execution_count": 34,
      "outputs": []
    },
    {
      "cell_type": "code",
      "metadata": {
        "colab": {
          "base_uri": "https://localhost:8080/"
        },
        "id": "P48cja3KQiDO",
        "outputId": "8ac76a7c-7333-484e-a4ed-63de6447d411"
      },
      "source": [
        "arr1 = np.array(data1)\n",
        "arr1"
      ],
      "execution_count": 37,
      "outputs": [
        {
          "output_type": "execute_result",
          "data": {
            "text/plain": [
              "array([6. , 7.5, 8. , 0. , 1. ])"
            ]
          },
          "metadata": {
            "tags": []
          },
          "execution_count": 37
        }
      ]
    },
    {
      "cell_type": "code",
      "metadata": {
        "colab": {
          "base_uri": "https://localhost:8080/"
        },
        "id": "fzNvc988QmKo",
        "outputId": "24b96f98-71b4-4353-b9e0-7bd5b310f5f7"
      },
      "source": [
        "type(arr1)"
      ],
      "execution_count": 38,
      "outputs": [
        {
          "output_type": "execute_result",
          "data": {
            "text/plain": [
              "numpy.ndarray"
            ]
          },
          "metadata": {
            "tags": []
          },
          "execution_count": 38
        }
      ]
    },
    {
      "cell_type": "code",
      "metadata": {
        "colab": {
          "base_uri": "https://localhost:8080/"
        },
        "id": "3EgY048rQupa",
        "outputId": "15172dc2-0619-4aa5-a80a-b7d6c0826313"
      },
      "source": [
        "data2 = [[0,1,2], [3,4,5]]\n",
        "arr2 = np.array(data2)\n",
        "arr2"
      ],
      "execution_count": 40,
      "outputs": [
        {
          "output_type": "execute_result",
          "data": {
            "text/plain": [
              "array([[0, 1, 2],\n",
              "       [3, 4, 5]])"
            ]
          },
          "metadata": {
            "tags": []
          },
          "execution_count": 40
        }
      ]
    },
    {
      "cell_type": "code",
      "metadata": {
        "colab": {
          "base_uri": "https://localhost:8080/"
        },
        "id": "tByxJXIiQ761",
        "outputId": "5735d649-98f5-43f4-c962-5387391ca0b0"
      },
      "source": [
        "arr2.ndim"
      ],
      "execution_count": 41,
      "outputs": [
        {
          "output_type": "execute_result",
          "data": {
            "text/plain": [
              "2"
            ]
          },
          "metadata": {
            "tags": []
          },
          "execution_count": 41
        }
      ]
    },
    {
      "cell_type": "code",
      "metadata": {
        "colab": {
          "base_uri": "https://localhost:8080/"
        },
        "id": "YRExKDehREcp",
        "outputId": "1c25c36b-61ee-496e-d2fe-1f501f9da81d"
      },
      "source": [
        "arr2.shape"
      ],
      "execution_count": 42,
      "outputs": [
        {
          "output_type": "execute_result",
          "data": {
            "text/plain": [
              "(2, 3)"
            ]
          },
          "metadata": {
            "tags": []
          },
          "execution_count": 42
        }
      ]
    },
    {
      "cell_type": "code",
      "metadata": {
        "colab": {
          "base_uri": "https://localhost:8080/"
        },
        "id": "85FlzrjERLe_",
        "outputId": "1602e8b9-4a9a-4f4e-bc4d-8d4ff1595b80"
      },
      "source": [
        "arr2.dtype"
      ],
      "execution_count": 43,
      "outputs": [
        {
          "output_type": "execute_result",
          "data": {
            "text/plain": [
              "dtype('int64')"
            ]
          },
          "metadata": {
            "tags": []
          },
          "execution_count": 43
        }
      ]
    },
    {
      "cell_type": "code",
      "metadata": {
        "colab": {
          "base_uri": "https://localhost:8080/"
        },
        "id": "PuWs3TH0RQD1",
        "outputId": "9dc4a701-19db-4e45-9679-2662c7274d1f"
      },
      "source": [
        "arr3 = np.zeros(10)\n",
        "arr3"
      ],
      "execution_count": 45,
      "outputs": [
        {
          "output_type": "execute_result",
          "data": {
            "text/plain": [
              "array([0., 0., 0., 0., 0., 0., 0., 0., 0., 0.])"
            ]
          },
          "metadata": {
            "tags": []
          },
          "execution_count": 45
        }
      ]
    },
    {
      "cell_type": "code",
      "metadata": {
        "colab": {
          "base_uri": "https://localhost:8080/"
        },
        "id": "oqd1MuP2RW5R",
        "outputId": "7b8437e2-2c7d-4534-ed65-fae8699742fb"
      },
      "source": [
        "arr4 = np.zeros((3, 6))\n",
        "arr4"
      ],
      "execution_count": 47,
      "outputs": [
        {
          "output_type": "execute_result",
          "data": {
            "text/plain": [
              "array([[0., 0., 0., 0., 0., 0.],\n",
              "       [0., 0., 0., 0., 0., 0.],\n",
              "       [0., 0., 0., 0., 0., 0.]])"
            ]
          },
          "metadata": {
            "tags": []
          },
          "execution_count": 47
        }
      ]
    },
    {
      "cell_type": "code",
      "metadata": {
        "colab": {
          "base_uri": "https://localhost:8080/"
        },
        "id": "dtyJoPM_Rrpx",
        "outputId": "15f15884-df63-4c77-f6d1-c6dc2eb1e5f6"
      },
      "source": [
        "arr5 = np.zeros((2, 3, 2))\n",
        "arr5"
      ],
      "execution_count": 49,
      "outputs": [
        {
          "output_type": "execute_result",
          "data": {
            "text/plain": [
              "array([[[0., 0.],\n",
              "        [0., 0.],\n",
              "        [0., 0.]],\n",
              "\n",
              "       [[0., 0.],\n",
              "        [0., 0.],\n",
              "        [0., 0.]]])"
            ]
          },
          "metadata": {
            "tags": []
          },
          "execution_count": 49
        }
      ]
    },
    {
      "cell_type": "code",
      "metadata": {
        "colab": {
          "base_uri": "https://localhost:8080/"
        },
        "id": "Vaj6iEgQRyfX",
        "outputId": "82febb88-1ee8-4278-bb38-5ad94a50657b"
      },
      "source": [
        "arr6 = np.ones((3, 2, 5))\n",
        "arr6"
      ],
      "execution_count": 50,
      "outputs": [
        {
          "output_type": "execute_result",
          "data": {
            "text/plain": [
              "array([[[1., 1., 1., 1., 1.],\n",
              "        [1., 1., 1., 1., 1.]],\n",
              "\n",
              "       [[1., 1., 1., 1., 1.],\n",
              "        [1., 1., 1., 1., 1.]],\n",
              "\n",
              "       [[1., 1., 1., 1., 1.],\n",
              "        [1., 1., 1., 1., 1.]]])"
            ]
          },
          "metadata": {
            "tags": []
          },
          "execution_count": 50
        }
      ]
    },
    {
      "cell_type": "code",
      "metadata": {
        "colab": {
          "base_uri": "https://localhost:8080/"
        },
        "id": "lK9m_RdGSKgE",
        "outputId": "85785d50-7e50-42ef-af1c-af5701ed58a0"
      },
      "source": [
        "arr7 = np.empty((5,2))\n",
        "arr7"
      ],
      "execution_count": 52,
      "outputs": [
        {
          "output_type": "execute_result",
          "data": {
            "text/plain": [
              "array([[4.66175251e-310, 0.00000000e+000],\n",
              "       [0.00000000e+000, 0.00000000e+000],\n",
              "       [0.00000000e+000, 0.00000000e+000],\n",
              "       [0.00000000e+000, 0.00000000e+000],\n",
              "       [0.00000000e+000, 0.00000000e+000]])"
            ]
          },
          "metadata": {
            "tags": []
          },
          "execution_count": 52
        }
      ]
    },
    {
      "cell_type": "code",
      "metadata": {
        "colab": {
          "base_uri": "https://localhost:8080/"
        },
        "id": "bv4ZrtEgS35t",
        "outputId": "22f37e9a-f99f-497c-f10b-b798c99e5f8b"
      },
      "source": [
        "arr8 = np.array([1, 2, 3, 4, 5 ])\n",
        "arr8.dtype"
      ],
      "execution_count": 54,
      "outputs": [
        {
          "output_type": "execute_result",
          "data": {
            "text/plain": [
              "dtype('int64')"
            ]
          },
          "metadata": {
            "tags": []
          },
          "execution_count": 54
        }
      ]
    },
    {
      "cell_type": "code",
      "metadata": {
        "colab": {
          "base_uri": "https://localhost:8080/"
        },
        "id": "vEzyw-ToTFfB",
        "outputId": "ddfc0a04-26b5-45d1-bbdc-47f4796d4609"
      },
      "source": [
        "float_arr8 = arr8.astype(np.float64)\n",
        "float_arr8.dtype\n",
        "float_arr8"
      ],
      "execution_count": 56,
      "outputs": [
        {
          "output_type": "execute_result",
          "data": {
            "text/plain": [
              "array([1., 2., 3., 4., 5.])"
            ]
          },
          "metadata": {
            "tags": []
          },
          "execution_count": 56
        }
      ]
    },
    {
      "cell_type": "code",
      "metadata": {
        "colab": {
          "base_uri": "https://localhost:8080/"
        },
        "id": "bKvCu33RTeYo",
        "outputId": "be58239b-10ef-4764-ca11-c898af6e4b5e"
      },
      "source": [
        "numeric_strings = np.array(['1.25', '-9.6', '42'])\n",
        "numeric_strings.dtype"
      ],
      "execution_count": 57,
      "outputs": [
        {
          "output_type": "execute_result",
          "data": {
            "text/plain": [
              "dtype('<U4')"
            ]
          },
          "metadata": {
            "tags": []
          },
          "execution_count": 57
        }
      ]
    },
    {
      "cell_type": "code",
      "metadata": {
        "colab": {
          "base_uri": "https://localhost:8080/"
        },
        "id": "e_hAyjWnTqFh",
        "outputId": "1f5ce663-69e2-4a4c-98d4-70626427e353"
      },
      "source": [
        "numeric_strings.astype(np.float64)"
      ],
      "execution_count": 58,
      "outputs": [
        {
          "output_type": "execute_result",
          "data": {
            "text/plain": [
              "array([ 1.25, -9.6 , 42.  ])"
            ]
          },
          "metadata": {
            "tags": []
          },
          "execution_count": 58
        }
      ]
    },
    {
      "cell_type": "code",
      "metadata": {
        "colab": {
          "base_uri": "https://localhost:8080/"
        },
        "id": "OJgBkGDPUKgv",
        "outputId": "f1b43837-c66c-4099-820c-c8c4102f6f64"
      },
      "source": [
        "int_array = np.arange(10)\n",
        "# calibers = np.array([.22, .270, .357, .380, .44, .50])\n",
        "calibers = np.array([\"1\",\"2\",\"3\"])\n",
        "int_array.astype(calibers.dtype)"
      ],
      "execution_count": 60,
      "outputs": [
        {
          "output_type": "execute_result",
          "data": {
            "text/plain": [
              "array(['0', '1', '2', '3', '4', '5', '6', '7', '8', '9'], dtype='<U1')"
            ]
          },
          "metadata": {
            "tags": []
          },
          "execution_count": 60
        }
      ]
    },
    {
      "cell_type": "code",
      "metadata": {
        "colab": {
          "base_uri": "https://localhost:8080/"
        },
        "id": "nwjY0sSLUj2F",
        "outputId": "fc8bff0c-fc76-4afb-de65-f685c8fcc814"
      },
      "source": [
        "arr = np.array([[1,2,3],[4,5,6]])\n",
        "arr"
      ],
      "execution_count": 62,
      "outputs": [
        {
          "output_type": "execute_result",
          "data": {
            "text/plain": [
              "array([[1, 2, 3],\n",
              "       [4, 5, 6]])"
            ]
          },
          "metadata": {
            "tags": []
          },
          "execution_count": 62
        }
      ]
    },
    {
      "cell_type": "code",
      "metadata": {
        "colab": {
          "base_uri": "https://localhost:8080/"
        },
        "id": "HMnOuZbOVQE3",
        "outputId": "1357f72e-5073-448c-c6bc-71f744ed508e"
      },
      "source": [
        "arr * arr"
      ],
      "execution_count": 63,
      "outputs": [
        {
          "output_type": "execute_result",
          "data": {
            "text/plain": [
              "array([[ 1,  4,  9],\n",
              "       [16, 25, 36]])"
            ]
          },
          "metadata": {
            "tags": []
          },
          "execution_count": 63
        }
      ]
    },
    {
      "cell_type": "code",
      "metadata": {
        "colab": {
          "base_uri": "https://localhost:8080/"
        },
        "id": "FiF9fJzvVT6f",
        "outputId": "4d610486-b398-4f2a-ab83-856f4832df7e"
      },
      "source": [
        "arr + arr"
      ],
      "execution_count": 64,
      "outputs": [
        {
          "output_type": "execute_result",
          "data": {
            "text/plain": [
              "array([[ 2,  4,  6],\n",
              "       [ 8, 10, 12]])"
            ]
          },
          "metadata": {
            "tags": []
          },
          "execution_count": 64
        }
      ]
    },
    {
      "cell_type": "code",
      "metadata": {
        "colab": {
          "base_uri": "https://localhost:8080/"
        },
        "id": "gR_dP2G_VYGp",
        "outputId": "a14a9852-b9bc-4481-a1fb-467f36d4f322"
      },
      "source": [
        "arr - arr"
      ],
      "execution_count": 65,
      "outputs": [
        {
          "output_type": "execute_result",
          "data": {
            "text/plain": [
              "array([[0, 0, 0],\n",
              "       [0, 0, 0]])"
            ]
          },
          "metadata": {
            "tags": []
          },
          "execution_count": 65
        }
      ]
    },
    {
      "cell_type": "code",
      "metadata": {
        "colab": {
          "base_uri": "https://localhost:8080/"
        },
        "id": "os9ogOzYVbiw",
        "outputId": "60c2b2d0-e7d3-410c-8fc3-ab97860d4808"
      },
      "source": [
        "1/arr"
      ],
      "execution_count": 66,
      "outputs": [
        {
          "output_type": "execute_result",
          "data": {
            "text/plain": [
              "array([[1.        , 0.5       , 0.33333333],\n",
              "       [0.25      , 0.2       , 0.16666667]])"
            ]
          },
          "metadata": {
            "tags": []
          },
          "execution_count": 66
        }
      ]
    },
    {
      "cell_type": "code",
      "metadata": {
        "colab": {
          "base_uri": "https://localhost:8080/"
        },
        "id": "RpeMc0nBVl3X",
        "outputId": "f1fce906-dbe8-4310-ca0a-4a070b64db8f"
      },
      "source": [
        "arr ** 0.5"
      ],
      "execution_count": 67,
      "outputs": [
        {
          "output_type": "execute_result",
          "data": {
            "text/plain": [
              "array([[1.        , 1.41421356, 1.73205081],\n",
              "       [2.        , 2.23606798, 2.44948974]])"
            ]
          },
          "metadata": {
            "tags": []
          },
          "execution_count": 67
        }
      ]
    },
    {
      "cell_type": "code",
      "metadata": {
        "colab": {
          "base_uri": "https://localhost:8080/"
        },
        "id": "myWsi_nKVqFy",
        "outputId": "74ba4e21-e678-4f89-a0f3-ec327fbcf641"
      },
      "source": [
        "arr2 = np.array([[0,4,1],[7,2,12]])\n",
        "arr2"
      ],
      "execution_count": 68,
      "outputs": [
        {
          "output_type": "execute_result",
          "data": {
            "text/plain": [
              "array([[ 0,  4,  1],\n",
              "       [ 7,  2, 12]])"
            ]
          },
          "metadata": {
            "tags": []
          },
          "execution_count": 68
        }
      ]
    },
    {
      "cell_type": "code",
      "metadata": {
        "colab": {
          "base_uri": "https://localhost:8080/"
        },
        "id": "TAP4dlXTWGhT",
        "outputId": "3ed247cf-cad1-4a29-9a90-359d9d0bca18"
      },
      "source": [
        "arr2 > arr"
      ],
      "execution_count": 71,
      "outputs": [
        {
          "output_type": "execute_result",
          "data": {
            "text/plain": [
              "array([[False,  True, False],\n",
              "       [ True, False,  True]])"
            ]
          },
          "metadata": {
            "tags": []
          },
          "execution_count": 71
        }
      ]
    },
    {
      "cell_type": "code",
      "metadata": {
        "colab": {
          "base_uri": "https://localhost:8080/"
        },
        "id": "ojlwaz4fWT__",
        "outputId": "1ee6bb2d-d6d6-4ddb-c939-ab4114b2f40c"
      },
      "source": [
        "arr = np.array([1,2,3])\n",
        "arr1 = np.array([2,3,4])\n",
        "arr*arr1"
      ],
      "execution_count": 72,
      "outputs": [
        {
          "output_type": "execute_result",
          "data": {
            "text/plain": [
              "array([ 2,  6, 12])"
            ]
          },
          "metadata": {
            "tags": []
          },
          "execution_count": 72
        }
      ]
    },
    {
      "cell_type": "code",
      "metadata": {
        "colab": {
          "base_uri": "https://localhost:8080/"
        },
        "id": "MdVMlBnpW_Be",
        "outputId": "90145f88-2c99-4571-b639-051027d711d6"
      },
      "source": [
        "arr = np.arange(10)\n",
        "arr"
      ],
      "execution_count": 74,
      "outputs": [
        {
          "output_type": "execute_result",
          "data": {
            "text/plain": [
              "array([0, 1, 2, 3, 4, 5, 6, 7, 8, 9])"
            ]
          },
          "metadata": {
            "tags": []
          },
          "execution_count": 74
        }
      ]
    },
    {
      "cell_type": "code",
      "metadata": {
        "colab": {
          "base_uri": "https://localhost:8080/"
        },
        "id": "lcq71MTRXFlE",
        "outputId": "2694ed2a-9920-4cd5-fa4d-4cf77afae3f0"
      },
      "source": [
        "arr[5]"
      ],
      "execution_count": 75,
      "outputs": [
        {
          "output_type": "execute_result",
          "data": {
            "text/plain": [
              "5"
            ]
          },
          "metadata": {
            "tags": []
          },
          "execution_count": 75
        }
      ]
    },
    {
      "cell_type": "code",
      "metadata": {
        "colab": {
          "base_uri": "https://localhost:8080/"
        },
        "id": "WMn6_dR4XIxZ",
        "outputId": "ef051855-2b99-4a79-ac81-d3e7cd9494e4"
      },
      "source": [
        "arr[5:9]"
      ],
      "execution_count": 78,
      "outputs": [
        {
          "output_type": "execute_result",
          "data": {
            "text/plain": [
              "array([5, 6, 7, 8])"
            ]
          },
          "metadata": {
            "tags": []
          },
          "execution_count": 78
        }
      ]
    },
    {
      "cell_type": "code",
      "metadata": {
        "colab": {
          "base_uri": "https://localhost:8080/"
        },
        "id": "2sQFE0-QXQq8",
        "outputId": "f2baf33b-e546-4f41-a766-15272c53f257"
      },
      "source": [
        "arr[5:9] = 12\n",
        "arr"
      ],
      "execution_count": 79,
      "outputs": [
        {
          "output_type": "execute_result",
          "data": {
            "text/plain": [
              "array([ 0,  1,  2,  3,  4, 12, 12, 12, 12,  9])"
            ]
          },
          "metadata": {
            "tags": []
          },
          "execution_count": 79
        }
      ]
    },
    {
      "cell_type": "code",
      "metadata": {
        "colab": {
          "base_uri": "https://localhost:8080/"
        },
        "id": "Cq5cU8F_XWqH",
        "outputId": "b69752e2-9fd9-4457-ded3-bf26a6c690f5"
      },
      "source": [
        "arr2d = np.array([[1,2,3],[3,4,5]])\n",
        "arr2d"
      ],
      "execution_count": 81,
      "outputs": [
        {
          "output_type": "execute_result",
          "data": {
            "text/plain": [
              "array([[1, 2, 3],\n",
              "       [3, 4, 5]])"
            ]
          },
          "metadata": {
            "tags": []
          },
          "execution_count": 81
        }
      ]
    },
    {
      "cell_type": "code",
      "metadata": {
        "colab": {
          "base_uri": "https://localhost:8080/"
        },
        "id": "CPm1T93bX2wn",
        "outputId": "e452fb51-d950-4323-e4d2-244a748712c7"
      },
      "source": [
        "arr2d[1]"
      ],
      "execution_count": 83,
      "outputs": [
        {
          "output_type": "execute_result",
          "data": {
            "text/plain": [
              "array([3, 4, 5])"
            ]
          },
          "metadata": {
            "tags": []
          },
          "execution_count": 83
        }
      ]
    },
    {
      "cell_type": "code",
      "metadata": {
        "colab": {
          "base_uri": "https://localhost:8080/"
        },
        "id": "QE6uZGtoYBKi",
        "outputId": "b2df1639-883b-4347-f3dc-d021ef0b328c"
      },
      "source": [
        "arr2d[0][2]"
      ],
      "execution_count": 84,
      "outputs": [
        {
          "output_type": "execute_result",
          "data": {
            "text/plain": [
              "3"
            ]
          },
          "metadata": {
            "tags": []
          },
          "execution_count": 84
        }
      ]
    },
    {
      "cell_type": "code",
      "metadata": {
        "colab": {
          "base_uri": "https://localhost:8080/"
        },
        "id": "50xnFMGXYDuS",
        "outputId": "c395574b-542f-46e0-9ab5-3dbc9d6e7b00"
      },
      "source": [
        "arr2d[0,1]"
      ],
      "execution_count": 86,
      "outputs": [
        {
          "output_type": "execute_result",
          "data": {
            "text/plain": [
              "2"
            ]
          },
          "metadata": {
            "tags": []
          },
          "execution_count": 86
        }
      ]
    },
    {
      "cell_type": "code",
      "metadata": {
        "colab": {
          "base_uri": "https://localhost:8080/"
        },
        "id": "sAryu39uYOen",
        "outputId": "7242a4b8-0e41-459d-947e-69747af408eb"
      },
      "source": [
        "arr = np.array([[1,2,3],[4,5,6],[7,8,9]])\n",
        "arr"
      ],
      "execution_count": 87,
      "outputs": [
        {
          "output_type": "execute_result",
          "data": {
            "text/plain": [
              "array([[1, 2, 3],\n",
              "       [4, 5, 6],\n",
              "       [7, 8, 9]])"
            ]
          },
          "metadata": {
            "tags": []
          },
          "execution_count": 87
        }
      ]
    },
    {
      "cell_type": "code",
      "metadata": {
        "colab": {
          "base_uri": "https://localhost:8080/"
        },
        "id": "YgQqGlNdaNvJ",
        "outputId": "9c93dfc9-5389-4391-942c-ca17ea2571bc"
      },
      "source": [
        "arr[:2,1:]"
      ],
      "execution_count": 88,
      "outputs": [
        {
          "output_type": "execute_result",
          "data": {
            "text/plain": [
              "array([[2, 3],\n",
              "       [5, 6]])"
            ]
          },
          "metadata": {
            "tags": []
          },
          "execution_count": 88
        }
      ]
    },
    {
      "cell_type": "code",
      "metadata": {
        "colab": {
          "base_uri": "https://localhost:8080/"
        },
        "id": "xJiR2l-Oa4fQ",
        "outputId": "ba0297fd-7c85-4b09-9e32-23ab561c99af"
      },
      "source": [
        "arr[2,:]"
      ],
      "execution_count": 89,
      "outputs": [
        {
          "output_type": "execute_result",
          "data": {
            "text/plain": [
              "array([7, 8, 9])"
            ]
          },
          "metadata": {
            "tags": []
          },
          "execution_count": 89
        }
      ]
    },
    {
      "cell_type": "code",
      "metadata": {
        "colab": {
          "base_uri": "https://localhost:8080/"
        },
        "id": "Kfld98NKa-Rb",
        "outputId": "c54fd7c9-54fd-4872-b405-899600ca90ed"
      },
      "source": [
        "arr[2:, :]"
      ],
      "execution_count": 90,
      "outputs": [
        {
          "output_type": "execute_result",
          "data": {
            "text/plain": [
              "array([[7, 8, 9]])"
            ]
          },
          "metadata": {
            "tags": []
          },
          "execution_count": 90
        }
      ]
    },
    {
      "cell_type": "code",
      "metadata": {
        "colab": {
          "base_uri": "https://localhost:8080/"
        },
        "id": "OGjEyZA9bLES",
        "outputId": "c67806f1-526e-42b3-ab4a-c736b71fa366"
      },
      "source": [
        "arr[:,:2]"
      ],
      "execution_count": 91,
      "outputs": [
        {
          "output_type": "execute_result",
          "data": {
            "text/plain": [
              "array([[1, 2],\n",
              "       [4, 5],\n",
              "       [7, 8]])"
            ]
          },
          "metadata": {
            "tags": []
          },
          "execution_count": 91
        }
      ]
    },
    {
      "cell_type": "code",
      "metadata": {
        "colab": {
          "base_uri": "https://localhost:8080/"
        },
        "id": "vYC64X1UbP1T",
        "outputId": "efb57671-5485-4303-a28f-a240f2a65d23"
      },
      "source": [
        "arr[1,:2]"
      ],
      "execution_count": 92,
      "outputs": [
        {
          "output_type": "execute_result",
          "data": {
            "text/plain": [
              "array([4, 5])"
            ]
          },
          "metadata": {
            "tags": []
          },
          "execution_count": 92
        }
      ]
    },
    {
      "cell_type": "code",
      "metadata": {
        "colab": {
          "base_uri": "https://localhost:8080/"
        },
        "id": "QOAHWdljbWfz",
        "outputId": "b7d17654-da1e-427f-d80e-3cfea6c6ae8b"
      },
      "source": [
        "arr[1:2, :2]"
      ],
      "execution_count": 94,
      "outputs": [
        {
          "output_type": "execute_result",
          "data": {
            "text/plain": [
              "array([[4, 5]])"
            ]
          },
          "metadata": {
            "tags": []
          },
          "execution_count": 94
        }
      ]
    },
    {
      "cell_type": "code",
      "metadata": {
        "id": "KYnIcnKYb4Z4"
      },
      "source": [
        "names = np.array(['Bob', 'Joe','Will', 'Bob', 'Will', 'Joe', 'Joe'])\n",
        "data = np.random.randn(7,4)"
      ],
      "execution_count": 95,
      "outputs": []
    },
    {
      "cell_type": "code",
      "metadata": {
        "colab": {
          "base_uri": "https://localhost:8080/"
        },
        "id": "_NwpUW6pcHxQ",
        "outputId": "2cfeb6e1-46fb-4fa5-906b-779c2be2ce69"
      },
      "source": [
        "names"
      ],
      "execution_count": 96,
      "outputs": [
        {
          "output_type": "execute_result",
          "data": {
            "text/plain": [
              "array(['Bob', 'Joe', 'Will', 'Bob', 'Will', 'Joe', 'Joe'], dtype='<U4')"
            ]
          },
          "metadata": {
            "tags": []
          },
          "execution_count": 96
        }
      ]
    },
    {
      "cell_type": "code",
      "metadata": {
        "colab": {
          "base_uri": "https://localhost:8080/"
        },
        "id": "gM4C8haQcJzP",
        "outputId": "2c444510-f25d-4321-c1ab-8332a92e6d7f"
      },
      "source": [
        "data"
      ],
      "execution_count": 97,
      "outputs": [
        {
          "output_type": "execute_result",
          "data": {
            "text/plain": [
              "array([[ 0.60998167, -0.4750541 ,  0.83377753, -1.93518874],\n",
              "       [-0.16049902, -0.15187762, -0.37197516,  0.14111804],\n",
              "       [-0.68370928, -0.20785975, -0.22797402,  1.99096022],\n",
              "       [-0.64430885, -0.54758149,  1.04238802,  0.80648829],\n",
              "       [-0.95383126, -0.13283719, -0.06306898,  0.52169867],\n",
              "       [-0.06665623,  0.08206044,  0.30804482, -2.36619322],\n",
              "       [-0.24388604, -0.7799216 ,  0.66466533,  0.39593256]])"
            ]
          },
          "metadata": {
            "tags": []
          },
          "execution_count": 97
        }
      ]
    },
    {
      "cell_type": "code",
      "metadata": {
        "colab": {
          "base_uri": "https://localhost:8080/"
        },
        "id": "urWk11CFcLzS",
        "outputId": "66482e17-7cf8-4e70-e53f-700fe153df12"
      },
      "source": [
        "names == 'Bob'"
      ],
      "execution_count": 99,
      "outputs": [
        {
          "output_type": "execute_result",
          "data": {
            "text/plain": [
              "array([ True, False, False,  True, False, False, False])"
            ]
          },
          "metadata": {
            "tags": []
          },
          "execution_count": 99
        }
      ]
    },
    {
      "cell_type": "code",
      "metadata": {
        "colab": {
          "base_uri": "https://localhost:8080/"
        },
        "id": "sD7VVE_jcUcN",
        "outputId": "dc5206f3-d26a-4fb6-8cb2-b9487d8352ba"
      },
      "source": [
        "data[names=='Bob']"
      ],
      "execution_count": 100,
      "outputs": [
        {
          "output_type": "execute_result",
          "data": {
            "text/plain": [
              "array([[ 0.60998167, -0.4750541 ,  0.83377753, -1.93518874],\n",
              "       [-0.64430885, -0.54758149,  1.04238802,  0.80648829]])"
            ]
          },
          "metadata": {
            "tags": []
          },
          "execution_count": 100
        }
      ]
    },
    {
      "cell_type": "code",
      "metadata": {
        "colab": {
          "base_uri": "https://localhost:8080/"
        },
        "id": "70_IflYxckml",
        "outputId": "55c42020-dda0-429e-d164-dd69f2c351c7"
      },
      "source": [
        "data[names=='Bob', 2:]"
      ],
      "execution_count": 101,
      "outputs": [
        {
          "output_type": "execute_result",
          "data": {
            "text/plain": [
              "array([[ 0.83377753, -1.93518874],\n",
              "       [ 1.04238802,  0.80648829]])"
            ]
          },
          "metadata": {
            "tags": []
          },
          "execution_count": 101
        }
      ]
    },
    {
      "cell_type": "code",
      "metadata": {
        "colab": {
          "base_uri": "https://localhost:8080/"
        },
        "id": "7veCa-scc2pF",
        "outputId": "394c640b-5ca0-4e3b-93ba-9bc78cf5eedc"
      },
      "source": [
        "mask = (names=='Bob')|(names==\"Will\")\n",
        "mask"
      ],
      "execution_count": 105,
      "outputs": [
        {
          "output_type": "execute_result",
          "data": {
            "text/plain": [
              "array([ True, False,  True,  True,  True, False, False])"
            ]
          },
          "metadata": {
            "tags": []
          },
          "execution_count": 105
        }
      ]
    },
    {
      "cell_type": "code",
      "metadata": {
        "colab": {
          "base_uri": "https://localhost:8080/"
        },
        "id": "j1cKt1Nbdcbs",
        "outputId": "8b789a70-de9c-49ee-b83f-2289692c17b6"
      },
      "source": [
        "~mask"
      ],
      "execution_count": 106,
      "outputs": [
        {
          "output_type": "execute_result",
          "data": {
            "text/plain": [
              "array([False,  True, False, False, False,  True,  True])"
            ]
          },
          "metadata": {
            "tags": []
          },
          "execution_count": 106
        }
      ]
    },
    {
      "cell_type": "code",
      "metadata": {
        "colab": {
          "base_uri": "https://localhost:8080/"
        },
        "id": "9L5t0gqAfgAs",
        "outputId": "cb643f50-687d-4add-a85f-221e50feeb0a"
      },
      "source": [
        "arr = np.empty((8,4))\n",
        "arr"
      ],
      "execution_count": 112,
      "outputs": [
        {
          "output_type": "execute_result",
          "data": {
            "text/plain": [
              "array([[0., 0., 0., 0.],\n",
              "       [0., 0., 0., 0.],\n",
              "       [0., 0., 0., 0.],\n",
              "       [0., 0., 0., 0.],\n",
              "       [0., 0., 0., 0.],\n",
              "       [0., 0., 0., 0.],\n",
              "       [0., 0., 0., 0.],\n",
              "       [0., 0., 0., 0.]])"
            ]
          },
          "metadata": {
            "tags": []
          },
          "execution_count": 112
        }
      ]
    },
    {
      "cell_type": "code",
      "metadata": {
        "colab": {
          "base_uri": "https://localhost:8080/"
        },
        "id": "BRlpPKWtfoax",
        "outputId": "9426211b-18af-4339-a97f-440dc453e888"
      },
      "source": [
        "for i in range(8):\n",
        "  arr[i] = i\n",
        "arr"
      ],
      "execution_count": 119,
      "outputs": [
        {
          "output_type": "execute_result",
          "data": {
            "text/plain": [
              "array([[0., 0., 0., 0.],\n",
              "       [1., 1., 1., 1.],\n",
              "       [2., 2., 2., 2.],\n",
              "       [3., 3., 3., 3.],\n",
              "       [4., 4., 4., 4.],\n",
              "       [5., 5., 5., 5.],\n",
              "       [6., 6., 6., 6.],\n",
              "       [7., 7., 7., 7.]])"
            ]
          },
          "metadata": {
            "tags": []
          },
          "execution_count": 119
        }
      ]
    },
    {
      "cell_type": "code",
      "metadata": {
        "colab": {
          "base_uri": "https://localhost:8080/"
        },
        "id": "ajSwxsIlgZ3d",
        "outputId": "7ed5944c-acaf-42c3-c6d7-170f0af023d1"
      },
      "source": [
        "arr[[4,2,0,5]]"
      ],
      "execution_count": 120,
      "outputs": [
        {
          "output_type": "execute_result",
          "data": {
            "text/plain": [
              "array([[4., 4., 4., 4.],\n",
              "       [2., 2., 2., 2.],\n",
              "       [0., 0., 0., 0.],\n",
              "       [5., 5., 5., 5.]])"
            ]
          },
          "metadata": {
            "tags": []
          },
          "execution_count": 120
        }
      ]
    },
    {
      "cell_type": "code",
      "metadata": {
        "colab": {
          "base_uri": "https://localhost:8080/"
        },
        "id": "ESXneSQqgezH",
        "outputId": "7f55c868-b0c5-404d-c192-3c40133fcbdb"
      },
      "source": [
        "arr[[-1,-2,-3,-4]]"
      ],
      "execution_count": 121,
      "outputs": [
        {
          "output_type": "execute_result",
          "data": {
            "text/plain": [
              "array([[7., 7., 7., 7.],\n",
              "       [6., 6., 6., 6.],\n",
              "       [5., 5., 5., 5.],\n",
              "       [4., 4., 4., 4.]])"
            ]
          },
          "metadata": {
            "tags": []
          },
          "execution_count": 121
        }
      ]
    },
    {
      "cell_type": "code",
      "metadata": {
        "colab": {
          "base_uri": "https://localhost:8080/"
        },
        "id": "aiANF5X_g6VL",
        "outputId": "68d4637a-419c-4919-cb2c-74c223bfd8bb"
      },
      "source": [
        "arr = np.arange(32).reshape((8,4))\n",
        "arr"
      ],
      "execution_count": 122,
      "outputs": [
        {
          "output_type": "execute_result",
          "data": {
            "text/plain": [
              "array([[ 0,  1,  2,  3],\n",
              "       [ 4,  5,  6,  7],\n",
              "       [ 8,  9, 10, 11],\n",
              "       [12, 13, 14, 15],\n",
              "       [16, 17, 18, 19],\n",
              "       [20, 21, 22, 23],\n",
              "       [24, 25, 26, 27],\n",
              "       [28, 29, 30, 31]])"
            ]
          },
          "metadata": {
            "tags": []
          },
          "execution_count": 122
        }
      ]
    },
    {
      "cell_type": "code",
      "metadata": {
        "colab": {
          "base_uri": "https://localhost:8080/"
        },
        "id": "x7iH9nHRhAUt",
        "outputId": "e74a1a4d-4208-4332-e9be-eeb74bd9cd91"
      },
      "source": [
        "arr[[1,-2],[2,3]]"
      ],
      "execution_count": 123,
      "outputs": [
        {
          "output_type": "execute_result",
          "data": {
            "text/plain": [
              "array([ 6, 27])"
            ]
          },
          "metadata": {
            "tags": []
          },
          "execution_count": 123
        }
      ]
    },
    {
      "cell_type": "code",
      "metadata": {
        "colab": {
          "base_uri": "https://localhost:8080/"
        },
        "id": "BOS7qB8ch32m",
        "outputId": "104b026e-6a8d-4d19-c675-09668f83e329"
      },
      "source": [
        "arr = np.arange(15).reshape((3,5))\n",
        "arr"
      ],
      "execution_count": 125,
      "outputs": [
        {
          "output_type": "execute_result",
          "data": {
            "text/plain": [
              "array([[ 0,  1,  2,  3,  4],\n",
              "       [ 5,  6,  7,  8,  9],\n",
              "       [10, 11, 12, 13, 14]])"
            ]
          },
          "metadata": {
            "tags": []
          },
          "execution_count": 125
        }
      ]
    },
    {
      "cell_type": "code",
      "metadata": {
        "colab": {
          "base_uri": "https://localhost:8080/"
        },
        "id": "7wH5XKD0h_ZO",
        "outputId": "3e32c84e-1391-4ab4-8e4a-e309f6261ef5"
      },
      "source": [
        "arr.T"
      ],
      "execution_count": 126,
      "outputs": [
        {
          "output_type": "execute_result",
          "data": {
            "text/plain": [
              "array([[ 0,  5, 10],\n",
              "       [ 1,  6, 11],\n",
              "       [ 2,  7, 12],\n",
              "       [ 3,  8, 13],\n",
              "       [ 4,  9, 14]])"
            ]
          },
          "metadata": {
            "tags": []
          },
          "execution_count": 126
        }
      ]
    },
    {
      "cell_type": "code",
      "metadata": {
        "colab": {
          "base_uri": "https://localhost:8080/"
        },
        "id": "jV4F5YWTiSyU",
        "outputId": "c9215943-2fb4-4780-c297-e62e39911d34"
      },
      "source": [
        "arr = np.random.randn(6,3)\n",
        "arr"
      ],
      "execution_count": 128,
      "outputs": [
        {
          "output_type": "execute_result",
          "data": {
            "text/plain": [
              "array([[ 0.71847775,  0.26285484, -1.26553537],\n",
              "       [ 1.56486367, -0.36669354, -0.57239746],\n",
              "       [-0.32396078,  0.42142172, -0.23613956],\n",
              "       [-0.96922448,  0.33607358,  1.36743707],\n",
              "       [-0.34535039, -0.77819041,  0.8160415 ],\n",
              "       [ 0.40062679,  0.96034596,  0.35131363]])"
            ]
          },
          "metadata": {
            "tags": []
          },
          "execution_count": 128
        }
      ]
    },
    {
      "cell_type": "code",
      "metadata": {
        "colab": {
          "base_uri": "https://localhost:8080/"
        },
        "id": "tcKcUX0YiflX",
        "outputId": "50228c16-6077-43ba-86ce-995ca7636163"
      },
      "source": [
        "np.dot(arr.T, arr)"
      ],
      "execution_count": 129,
      "outputs": [
        {
          "output_type": "execute_result",
          "data": {
            "text/plain": [
              "array([[ 4.289124  , -0.19373621, -3.19491112],\n",
              "       [-0.19373621,  2.02194322, -0.06036556],\n",
              "       [-3.19491112, -0.06036556,  4.64420965]])"
            ]
          },
          "metadata": {
            "tags": []
          },
          "execution_count": 129
        }
      ]
    },
    {
      "cell_type": "code",
      "metadata": {
        "colab": {
          "base_uri": "https://localhost:8080/"
        },
        "id": "HIBWP4Jnirrc",
        "outputId": "15a3df38-d878-4279-95cd-3d890c364a4e"
      },
      "source": [
        "arr = np.array([1,2])\n",
        "arr"
      ],
      "execution_count": 133,
      "outputs": [
        {
          "output_type": "execute_result",
          "data": {
            "text/plain": [
              "array([1, 2])"
            ]
          },
          "metadata": {
            "tags": []
          },
          "execution_count": 133
        }
      ]
    },
    {
      "cell_type": "code",
      "metadata": {
        "colab": {
          "base_uri": "https://localhost:8080/"
        },
        "id": "4HIlKsdTi1NF",
        "outputId": "7b7f0127-1eb7-45ec-ea7a-9fa302a3e276"
      },
      "source": [
        "np.dot(arr.T, arr) "
      ],
      "execution_count": 134,
      "outputs": [
        {
          "output_type": "execute_result",
          "data": {
            "text/plain": [
              "5"
            ]
          },
          "metadata": {
            "tags": []
          },
          "execution_count": 134
        }
      ]
    }
  ]
}